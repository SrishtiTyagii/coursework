{
  "nbformat": 4,
  "nbformat_minor": 0,
  "metadata": {
    "colab": {
      "provenance": [],
      "authorship_tag": "ABX9TyNO9Ie8lvVQbxFg5X/wh15I",
      "include_colab_link": true
    },
    "kernelspec": {
      "name": "python3",
      "display_name": "Python 3"
    },
    "language_info": {
      "name": "python"
    }
  },
  "cells": [
    {
      "cell_type": "markdown",
      "metadata": {
        "id": "view-in-github",
        "colab_type": "text"
      },
      "source": [
        "<a href=\"https://colab.research.google.com/github/SrishtiTyagii/coursework/blob/main/data_cleaning_exercise.ipynb\" target=\"_parent\"><img src=\"https://colab.research.google.com/assets/colab-badge.svg\" alt=\"Open In Colab\"/></a>"
      ]
    },
    {
      "cell_type": "code",
      "execution_count": 29,
      "metadata": {
        "colab": {
          "base_uri": "https://localhost:8080/"
        },
        "id": "j6YfN6IS0iBm",
        "outputId": "fe02d9dc-9b5b-44c7-8bcf-3da7a57422c8"
      },
      "outputs": [
        {
          "output_type": "stream",
          "name": "stdout",
          "text": [
            "    FirstName LastName EmployeeID\n",
            "0         123                 267\n",
            "1       Frank    Jones        261\n",
            "2       Alice    Baker        254\n",
            "3        Dave      123        236\n",
            "4           !  Johnson        284\n",
            "..        ...      ...        ...\n",
            "995      Dave   Wilson        230\n",
            "996       Eve    Baker        213\n",
            "997     Frank    Jones        292\n",
            "998       123        !        246\n",
            "999       123    Smith        214\n",
            "\n",
            "[1000 rows x 3 columns]\n"
          ]
        }
      ],
      "source": [
        "import numpy as np\n",
        "import pandas as pd\n",
        "\n",
        "# Generating sample data\n",
        "np.random.seed(0)\n",
        "\n",
        "# Creating lists of sample names and IDs\n",
        "first_names = ['Alice', 'Bob', 'Carla', 'Dave', 'Eve', 'Frank', 'Grace', 'Hannah', 'Ivy', 'Jack']\n",
        "last_names = ['Smith', 'Jones', 'Neil', 'Baker', 'Davis', 'Miller', 'Johnson', 'Williams', 'Brown', 'Wilson']\n",
        "\n",
        "# Randomly generating data\n",
        "data = pd.DataFrame({\n",
        "    'FirstName': np.random.choice(first_names + ['', '!', '123', '...'], size=1000),\n",
        "    'LastName': np.random.choice(last_names + ['', '!', '123', '...'], size=1000),\n",
        "    'EmployeeID': np.random.choice([str(i) for i in range(200, 300)] + [' ', 'abc', '9999'], size=1000)\n",
        "})\n",
        "\n",
        "print(data.head(1000))"
      ]
    },
    {
      "cell_type": "code",
      "source": [
        "# Creating a data summary method for reusability\n",
        "def DataSummary(data, i=None):\n",
        "    try:\n",
        "        if i is None:\n",
        "            i = 5\n",
        "        elif not isinstance(i, int) or i < 0:\n",
        "            # i is defaulted to '5' in the event of error input\n",
        "            error = \"The argument 'i' must be a non-negative integer.\\ni was defaulted to 5.\"\n",
        "            print(error)\n",
        "            i = 5\n",
        "            # For readability\n",
        "            print()\n",
        "\n",
        "        # For readability\n",
        "        print(\"*\" * 50)\n",
        "\n",
        "        # The .head() function\n",
        "        print(data.head(i))\n",
        "\n",
        "        # For readability\n",
        "        print(\"*\" * 50)\n",
        "\n",
        "        # The .describe() function\n",
        "        print(data.describe(include='all'))\n",
        "\n",
        "        # For readability\n",
        "        print(\"*\" * 50)\n",
        "\n",
        "        # The .info() function\n",
        "        print(data.info())\n",
        "\n",
        "        # For readability\n",
        "        print(\"*\" * 50)\n",
        "\n",
        "        # The datatypes in the dataframe\n",
        "        print(f\"The datatypes in the dataframe:\\n{data.dtypes}\")\n",
        "\n",
        "    except Exception as e:\n",
        "        print(f\"An error occurred: {e}\")\n",
        "\n",
        "# Getting the summary with i=100 to view all data\n",
        "DataSummary(data, i=1000)"
      ],
      "metadata": {
        "colab": {
          "base_uri": "https://localhost:8080/"
        },
        "id": "TSuoYpU61Drq",
        "outputId": "20277a25-77c1-4116-bf2b-5189e58c6b26"
      },
      "execution_count": 30,
      "outputs": [
        {
          "output_type": "stream",
          "name": "stdout",
          "text": [
            "**************************************************\n",
            "    FirstName LastName EmployeeID\n",
            "0         123                 267\n",
            "1       Frank    Jones        261\n",
            "2       Alice    Baker        254\n",
            "3        Dave      123        236\n",
            "4           !  Johnson        284\n",
            "..        ...      ...        ...\n",
            "995      Dave   Wilson        230\n",
            "996       Eve    Baker        213\n",
            "997     Frank    Jones        292\n",
            "998       123        !        246\n",
            "999       123    Smith        214\n",
            "\n",
            "[1000 rows x 3 columns]\n",
            "**************************************************\n",
            "       FirstName LastName EmployeeID\n",
            "count       1000     1000       1000\n",
            "unique        14       14        103\n",
            "top         Dave    Jones        211\n",
            "freq          94       86         18\n",
            "**************************************************\n",
            "<class 'pandas.core.frame.DataFrame'>\n",
            "RangeIndex: 1000 entries, 0 to 999\n",
            "Data columns (total 3 columns):\n",
            " #   Column      Non-Null Count  Dtype \n",
            "---  ------      --------------  ----- \n",
            " 0   FirstName   1000 non-null   object\n",
            " 1   LastName    1000 non-null   object\n",
            " 2   EmployeeID  1000 non-null   object\n",
            "dtypes: object(3)\n",
            "memory usage: 23.6+ KB\n",
            "None\n",
            "**************************************************\n",
            "The datatypes in the dataframe:\n",
            "FirstName     object\n",
            "LastName      object\n",
            "EmployeeID    object\n",
            "dtype: object\n"
          ]
        }
      ]
    },
    {
      "cell_type": "code",
      "source": [
        "# Removing punctuation and whitespace\n",
        "data['FirstName'] = data['FirstName'].str.strip().replace(r'[^\\w\\s]', '', regex=True)\n",
        "data['LastName'] = data['LastName'].str.strip().replace(r'[^\\w\\s]', '', regex=True)"
      ],
      "metadata": {
        "id": "0cyMexKG1N4j"
      },
      "execution_count": 31,
      "outputs": []
    },
    {
      "cell_type": "code",
      "source": [
        "# Replacing missing values with 'Unknown'\n",
        "data['FirstName'] = data['FirstName'].replace('', 'Unknown')\n",
        "data['LastName'] = data['LastName'].replace('', 'Unknown')"
      ],
      "metadata": {
        "id": "N-lcCPqc1Rzy"
      },
      "execution_count": 32,
      "outputs": []
    },
    {
      "cell_type": "code",
      "source": [
        "# Converting EmployeeID to numeric, setting errors='coerce' will replace non-convertible values with NaN\n",
        "data['EmployeeID'] = pd.to_numeric(data['EmployeeID'], errors='coerce')\n",
        "\n",
        "# Fill NaN values in EmployeeID with the median value\n",
        "median_id = data['EmployeeID'].median()\n",
        "data['EmployeeID'] = data['EmployeeID'].fillna(median_id)"
      ],
      "metadata": {
        "id": "94ozFyvf1c2_"
      },
      "execution_count": 33,
      "outputs": []
    },
    {
      "cell_type": "code",
      "source": [
        "# Checking my work\n",
        "DataSummary(data, i=1000)"
      ],
      "metadata": {
        "colab": {
          "base_uri": "https://localhost:8080/"
        },
        "id": "cXk3u_711f9W",
        "outputId": "9d980ba3-e222-445b-b538-23e0096a9655"
      },
      "execution_count": 34,
      "outputs": [
        {
          "output_type": "stream",
          "name": "stdout",
          "text": [
            "**************************************************\n",
            "    FirstName LastName  EmployeeID\n",
            "0         123  Unknown       267.0\n",
            "1       Frank    Jones       261.0\n",
            "2       Alice    Baker       254.0\n",
            "3        Dave      123       236.0\n",
            "4     Unknown  Johnson       284.0\n",
            "..        ...      ...         ...\n",
            "995      Dave   Wilson       230.0\n",
            "996       Eve    Baker       213.0\n",
            "997     Frank    Jones       292.0\n",
            "998       123  Unknown       246.0\n",
            "999       123    Smith       214.0\n",
            "\n",
            "[1000 rows x 3 columns]\n",
            "**************************************************\n",
            "       FirstName LastName   EmployeeID\n",
            "count       1000     1000  1000.000000\n",
            "unique        12       12          NaN\n",
            "top      Unknown  Unknown          NaN\n",
            "freq         202      209          NaN\n",
            "mean         NaN      NaN   336.320000\n",
            "std          NaN      NaN   921.730886\n",
            "min          NaN      NaN   200.000000\n",
            "25%          NaN      NaN   224.000000\n",
            "50%          NaN      NaN   249.000000\n",
            "75%          NaN      NaN   273.000000\n",
            "max          NaN      NaN  9999.000000\n",
            "**************************************************\n",
            "<class 'pandas.core.frame.DataFrame'>\n",
            "RangeIndex: 1000 entries, 0 to 999\n",
            "Data columns (total 3 columns):\n",
            " #   Column      Non-Null Count  Dtype  \n",
            "---  ------      --------------  -----  \n",
            " 0   FirstName   1000 non-null   object \n",
            " 1   LastName    1000 non-null   object \n",
            " 2   EmployeeID  1000 non-null   float64\n",
            "dtypes: float64(1), object(2)\n",
            "memory usage: 23.6+ KB\n",
            "None\n",
            "**************************************************\n",
            "The datatypes in the dataframe:\n",
            "FirstName      object\n",
            "LastName       object\n",
            "EmployeeID    float64\n",
            "dtype: object\n"
          ]
        }
      ]
    },
    {
      "cell_type": "code",
      "source": [
        "# Converting FirstName and LastName to category\n",
        "data['FirstName'] = data['FirstName'].astype('category')\n",
        "data['LastName'] = data['LastName'].astype('category')\n",
        "\n",
        "# Final summary to check data types\n",
        "DataSummary(data, 11)"
      ],
      "metadata": {
        "colab": {
          "base_uri": "https://localhost:8080/"
        },
        "id": "vnFyVC9J2GPT",
        "outputId": "1303bb57-4f7f-46ca-d7e1-c4014220d9a8"
      },
      "execution_count": 37,
      "outputs": [
        {
          "output_type": "stream",
          "name": "stdout",
          "text": [
            "**************************************************\n",
            "   FirstName  LastName  EmployeeID\n",
            "0        123   Unknown       267.0\n",
            "1      Frank     Jones       261.0\n",
            "2      Alice     Baker       254.0\n",
            "3       Dave       123       236.0\n",
            "4    Unknown   Johnson       284.0\n",
            "5       Dave  Williams       219.0\n",
            "6     Hannah     Davis       269.0\n",
            "7       Jack     Smith       284.0\n",
            "8       Dave   Unknown       262.0\n",
            "9      Frank     Smith       268.0\n",
            "10     Carla  Williams       241.0\n",
            "**************************************************\n",
            "       FirstName LastName   EmployeeID\n",
            "count       1000     1000  1000.000000\n",
            "unique        12       12          NaN\n",
            "top      Unknown  Unknown          NaN\n",
            "freq         202      209          NaN\n",
            "mean         NaN      NaN   336.320000\n",
            "std          NaN      NaN   921.730886\n",
            "min          NaN      NaN   200.000000\n",
            "25%          NaN      NaN   224.000000\n",
            "50%          NaN      NaN   249.000000\n",
            "75%          NaN      NaN   273.000000\n",
            "max          NaN      NaN  9999.000000\n",
            "**************************************************\n",
            "<class 'pandas.core.frame.DataFrame'>\n",
            "RangeIndex: 1000 entries, 0 to 999\n",
            "Data columns (total 3 columns):\n",
            " #   Column      Non-Null Count  Dtype   \n",
            "---  ------      --------------  -----   \n",
            " 0   FirstName   1000 non-null   category\n",
            " 1   LastName    1000 non-null   category\n",
            " 2   EmployeeID  1000 non-null   float64 \n",
            "dtypes: category(2), float64(1)\n",
            "memory usage: 10.7 KB\n",
            "None\n",
            "**************************************************\n",
            "The datatypes in the dataframe:\n",
            "FirstName     category\n",
            "LastName      category\n",
            "EmployeeID     float64\n",
            "dtype: object\n"
          ]
        }
      ]
    }
  ]
}