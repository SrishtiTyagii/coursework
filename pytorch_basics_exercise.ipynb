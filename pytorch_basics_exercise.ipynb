{
  "cells": [
    {
      "cell_type": "markdown",
      "metadata": {
        "id": "view-in-github",
        "colab_type": "text"
      },
      "source": [
        "<a href=\"https://colab.research.google.com/github/SrishtiTyagii/coursework/blob/main/pytorch_basics_exercise.ipynb\" target=\"_parent\"><img src=\"https://colab.research.google.com/assets/colab-badge.svg\" alt=\"Open In Colab\"/></a>"
      ]
    },
    {
      "cell_type": "markdown",
      "metadata": {
        "deletable": false,
        "editable": false,
        "nbgrader": {
          "cell_type": "markdown",
          "checksum": "c9f943bc6d17f5c41bf78d0fbd8204ab",
          "grade": false,
          "grade_id": "cell-8653d83277fb8418",
          "locked": true,
          "schema_version": 3,
          "solution": false,
          "task": false
        },
        "id": "hfmWMJuxl5cu"
      },
      "source": [
        "# This exercise will introduce to some PyTorch basics including Tensors, Loss, and Autograd."
      ]
    },
    {
      "cell_type": "code",
      "execution_count": 1,
      "metadata": {
        "ExecuteTime": {
          "end_time": "2021-11-09T19:59:52.845064Z",
          "start_time": "2021-11-09T19:59:52.299637Z"
        },
        "deletable": false,
        "editable": false,
        "nbgrader": {
          "cell_type": "code",
          "checksum": "d3642e7fe74ecb8701a63240216578ce",
          "grade": false,
          "grade_id": "cell-7523865a465c9b1e",
          "locked": true,
          "schema_version": 3,
          "solution": false,
          "task": false
        },
        "id": "NW-R8kdil5cw"
      },
      "outputs": [],
      "source": [
        "import os\n",
        "import torch\n",
        "import numpy as np\n",
        "import matplotlib.pyplot as plt\n",
        "import random"
      ]
    },
    {
      "cell_type": "code",
      "execution_count": 2,
      "metadata": {
        "ExecuteTime": {
          "end_time": "2021-11-09T19:59:52.851501Z",
          "start_time": "2021-11-09T19:59:52.847236Z"
        },
        "deletable": false,
        "editable": false,
        "nbgrader": {
          "cell_type": "code",
          "checksum": "aa13dd5c807dbeb0e92cebc3125b9092",
          "grade": false,
          "grade_id": "cell-825b96ce06875360",
          "locked": true,
          "schema_version": 3,
          "solution": false,
          "task": false
        },
        "id": "w963oeYFl5cw"
      },
      "outputs": [],
      "source": [
        "seed = 42\n",
        "random.seed(seed)\n",
        "np.random.seed(seed)\n",
        "torch.manual_seed(seed)\n",
        "os.environ[\"PYTHONHASHSEED\"] = str(seed)"
      ]
    },
    {
      "cell_type": "markdown",
      "metadata": {
        "deletable": false,
        "editable": false,
        "nbgrader": {
          "cell_type": "markdown",
          "checksum": "e37e8000c736b9a9406f0d119ff7f3a7",
          "grade": false,
          "grade_id": "cell-7b7bbb08dff3040d",
          "locked": true,
          "schema_version": 3,
          "solution": false,
          "task": false
        },
        "id": "9FUFUp5ol5cw"
      },
      "source": [
        "## 1. Tensors\n",
        "\n",
        "Tensors are a specialized data structure that are very similar to arrays and matrices. In PyTorch, we use tensors to encode the inputs and outputs of a model, as well as the model’s parameters.\n",
        "\n",
        "Tensors are similar to NumPy’s ndarrays, except that tensors can run on GPUs or other hardware accelerators. Tensors are also optimized for automatic differentiation (we’ll see more about that later in the Autograd section)."
      ]
    },
    {
      "cell_type": "markdown",
      "metadata": {
        "deletable": false,
        "editable": false,
        "nbgrader": {
          "cell_type": "markdown",
          "checksum": "8a4a90005ecf60dd50e62ea7de665f9a",
          "grade": false,
          "grade_id": "cell-b03b01d3bd61bc0f",
          "locked": true,
          "schema_version": 3,
          "solution": false,
          "task": false
        },
        "id": "ajhVnNzil5cx"
      },
      "source": [
        "### 1.1 Initializing a Tensor"
      ]
    },
    {
      "cell_type": "markdown",
      "metadata": {
        "deletable": false,
        "editable": false,
        "nbgrader": {
          "cell_type": "markdown",
          "checksum": "77458c2ce63f29f0d1ad965bd8886bdb",
          "grade": false,
          "grade_id": "cell-2583c6a26873f427",
          "locked": true,
          "schema_version": 3,
          "solution": false,
          "task": false
        },
        "id": "uStYBCknl5cx"
      },
      "source": [
        "**Directly from data**\n",
        "\n",
        "Tensors can be created directly from data. The data type is automatically inferred."
      ]
    },
    {
      "cell_type": "code",
      "execution_count": 3,
      "metadata": {
        "ExecuteTime": {
          "end_time": "2021-11-09T19:59:52.858154Z",
          "start_time": "2021-11-09T19:59:52.853403Z"
        },
        "deletable": false,
        "editable": false,
        "nbgrader": {
          "cell_type": "code",
          "checksum": "75ee8eefcb5a96b60d90d2b42b6dbef9",
          "grade": false,
          "grade_id": "cell-741b5efbb2c5f945",
          "locked": true,
          "schema_version": 3,
          "solution": false,
          "task": false
        },
        "colab": {
          "base_uri": "https://localhost:8080/"
        },
        "id": "Sb-M7Wzal5cx",
        "outputId": "1d503e5e-c3cb-45ef-b6d1-5f590016075c"
      },
      "outputs": [
        {
          "output_type": "execute_result",
          "data": {
            "text/plain": [
              "tensor([[1, 2],\n",
              "        [3, 4]])"
            ]
          },
          "metadata": {},
          "execution_count": 3
        }
      ],
      "source": [
        "data = [[1, 2],[3, 4]]\n",
        "x_data = torch.tensor(data)\n",
        "x_data"
      ]
    },
    {
      "cell_type": "markdown",
      "metadata": {
        "deletable": false,
        "editable": false,
        "nbgrader": {
          "cell_type": "markdown",
          "checksum": "654228ea3cb6365f53bbead1dd9872b9",
          "grade": false,
          "grade_id": "cell-a51593eb71551154",
          "locked": true,
          "schema_version": 3,
          "solution": false,
          "task": false
        },
        "id": "MDoR6WUMl5cx"
      },
      "source": [
        "**From a NumPy array**\n",
        "\n",
        "Tensors can be created from NumPy arrays (and vice versa)."
      ]
    },
    {
      "cell_type": "code",
      "execution_count": 4,
      "metadata": {
        "ExecuteTime": {
          "end_time": "2021-11-09T19:59:52.863349Z",
          "start_time": "2021-11-09T19:59:52.859841Z"
        },
        "deletable": false,
        "editable": false,
        "nbgrader": {
          "cell_type": "code",
          "checksum": "74779b8dd201e86c3c29040d89e07ad3",
          "grade": false,
          "grade_id": "cell-b2b7443d0480311c",
          "locked": true,
          "schema_version": 3,
          "solution": false,
          "task": false
        },
        "colab": {
          "base_uri": "https://localhost:8080/"
        },
        "id": "XzZufaaWl5cx",
        "outputId": "919c6fd3-7e02-40c9-a657-a6fab7f26b70"
      },
      "outputs": [
        {
          "output_type": "execute_result",
          "data": {
            "text/plain": [
              "tensor([[1, 2],\n",
              "        [3, 4]])"
            ]
          },
          "metadata": {},
          "execution_count": 4
        }
      ],
      "source": [
        "np_array = np.array(data)\n",
        "x_np = torch.from_numpy(np_array)\n",
        "x_np"
      ]
    },
    {
      "cell_type": "markdown",
      "metadata": {
        "deletable": false,
        "editable": false,
        "nbgrader": {
          "cell_type": "markdown",
          "checksum": "7efc6ab13e7bb7ebef435ad392769a0d",
          "grade": false,
          "grade_id": "cell-8ee52e294863edd9",
          "locked": true,
          "schema_version": 3,
          "solution": false,
          "task": false
        },
        "id": "WJ1CMXgml5cx"
      },
      "source": [
        "**From another tensor:**\n",
        "\n",
        "The new tensor retains the properties (shape, datatype) of the argument tensor, unless explicitly overridden."
      ]
    },
    {
      "cell_type": "code",
      "execution_count": 5,
      "metadata": {
        "ExecuteTime": {
          "end_time": "2021-11-09T19:59:52.869010Z",
          "start_time": "2021-11-09T19:59:52.864867Z"
        },
        "deletable": false,
        "editable": false,
        "nbgrader": {
          "cell_type": "code",
          "checksum": "ee6b4d83b94c4d3969cb7d973229b505",
          "grade": false,
          "grade_id": "cell-ceed6cc164f03815",
          "locked": true,
          "schema_version": 3,
          "solution": false,
          "task": false
        },
        "colab": {
          "base_uri": "https://localhost:8080/"
        },
        "id": "2DMn88Jwl5cy",
        "outputId": "272620b5-e323-46a6-c379-faae6fe9f295"
      },
      "outputs": [
        {
          "output_type": "stream",
          "name": "stdout",
          "text": [
            "Ones Tensor: \n",
            " tensor([[1, 1],\n",
            "        [1, 1]]) \n",
            "\n",
            "Random Tensor: \n",
            " tensor([[0.8823, 0.9150],\n",
            "        [0.3829, 0.9593]]) \n",
            "\n"
          ]
        }
      ],
      "source": [
        "x_ones = torch.ones_like(x_data) # retains the properties of x_data\n",
        "print(f\"Ones Tensor: \\n {x_ones} \\n\")\n",
        "\n",
        "x_rand = torch.rand_like(x_data, dtype=torch.float) # overrides the datatype of x_data\n",
        "print(f\"Random Tensor: \\n {x_rand} \\n\")"
      ]
    },
    {
      "cell_type": "markdown",
      "metadata": {
        "deletable": false,
        "editable": false,
        "nbgrader": {
          "cell_type": "markdown",
          "checksum": "43bb0a3f9c2770d1984d84f42a75f907",
          "grade": false,
          "grade_id": "cell-4671fa03f3944139",
          "locked": true,
          "schema_version": 3,
          "solution": false,
          "task": false
        },
        "id": "mssBsYHll5cy"
      },
      "source": [
        "**With random or constant values:**\n",
        "\n",
        "``shape`` is a tuple of tensor dimensions. In the functions below, it determines the dimensionality of the output tensor."
      ]
    },
    {
      "cell_type": "code",
      "execution_count": 6,
      "metadata": {
        "ExecuteTime": {
          "end_time": "2021-11-09T19:59:52.876523Z",
          "start_time": "2021-11-09T19:59:52.871788Z"
        },
        "deletable": false,
        "editable": false,
        "nbgrader": {
          "cell_type": "code",
          "checksum": "27f971907aa50b901fa91edd9c576761",
          "grade": false,
          "grade_id": "cell-d85438a27666f252",
          "locked": true,
          "schema_version": 3,
          "solution": false,
          "task": false
        },
        "colab": {
          "base_uri": "https://localhost:8080/"
        },
        "id": "ymYjBVD3l5cy",
        "outputId": "a38f0547-7ddf-4090-8434-813e99a7f947"
      },
      "outputs": [
        {
          "output_type": "stream",
          "name": "stdout",
          "text": [
            "Random Tensor: \n",
            " tensor([[0.3904, 0.6009, 0.2566],\n",
            "        [0.7936, 0.9408, 0.1332]]) \n",
            "\n",
            "Ones Tensor: \n",
            " tensor([[1., 1., 1.],\n",
            "        [1., 1., 1.]]) \n",
            "\n",
            "Zeros Tensor: \n",
            " tensor([[0., 0., 0.],\n",
            "        [0., 0., 0.]])\n"
          ]
        }
      ],
      "source": [
        "shape = (2,3,)\n",
        "rand_tensor = torch.rand(shape)\n",
        "ones_tensor = torch.ones(shape)\n",
        "zeros_tensor = torch.zeros(shape)\n",
        "\n",
        "print(f\"Random Tensor: \\n {rand_tensor} \\n\")\n",
        "print(f\"Ones Tensor: \\n {ones_tensor} \\n\")\n",
        "print(f\"Zeros Tensor: \\n {zeros_tensor}\")"
      ]
    },
    {
      "cell_type": "markdown",
      "metadata": {
        "deletable": false,
        "editable": false,
        "nbgrader": {
          "cell_type": "markdown",
          "checksum": "b5d46abd7766af09043a3bc674fd153b",
          "grade": false,
          "grade_id": "cell-c8f38367d33a874e",
          "locked": true,
          "schema_version": 3,
          "solution": false,
          "task": false
        },
        "id": "9FtwEdMGl5cy"
      },
      "source": [
        "### 1.2 Attributes of a Tensor\n",
        "\n",
        "Tensor attributes describe their shape, datatype, and the device on which they are stored."
      ]
    },
    {
      "cell_type": "code",
      "execution_count": 7,
      "metadata": {
        "ExecuteTime": {
          "end_time": "2021-11-09T19:59:52.881522Z",
          "start_time": "2021-11-09T19:59:52.878755Z"
        },
        "deletable": false,
        "editable": false,
        "nbgrader": {
          "cell_type": "code",
          "checksum": "a1de096b26be8502d768cf0112e683a0",
          "grade": false,
          "grade_id": "cell-0f572ccb4f2eed6d",
          "locked": true,
          "schema_version": 3,
          "solution": false,
          "task": false
        },
        "colab": {
          "base_uri": "https://localhost:8080/"
        },
        "id": "8WVF1C-pl5cy",
        "outputId": "a317c7ff-bfb7-411d-fcaf-6fe7aad1aaed"
      },
      "outputs": [
        {
          "output_type": "stream",
          "name": "stdout",
          "text": [
            "Shape of tensor: torch.Size([3, 4])\n",
            "Datatype of tensor: torch.float32\n",
            "Device tensor is stored on: cpu\n"
          ]
        }
      ],
      "source": [
        "tensor = torch.rand(3,4)\n",
        "\n",
        "print(f\"Shape of tensor: {tensor.shape}\")\n",
        "print(f\"Datatype of tensor: {tensor.dtype}\")\n",
        "print(f\"Device tensor is stored on: {tensor.device}\")"
      ]
    },
    {
      "cell_type": "markdown",
      "metadata": {
        "deletable": false,
        "editable": false,
        "nbgrader": {
          "cell_type": "markdown",
          "checksum": "abe60a975331fdb7d519d53ef968c668",
          "grade": false,
          "grade_id": "cell-5bc51b213e3495d9",
          "locked": true,
          "schema_version": 3,
          "solution": false,
          "task": false
        },
        "id": "Tj2m83kYl5cy"
      },
      "source": [
        "### 1.3 Operations on Tensors"
      ]
    },
    {
      "cell_type": "markdown",
      "metadata": {
        "deletable": false,
        "editable": false,
        "nbgrader": {
          "cell_type": "markdown",
          "checksum": "4dc3b4f6bb8c31e810c70a2ee180c89b",
          "grade": false,
          "grade_id": "cell-79f659ce1e13fda7",
          "locked": true,
          "schema_version": 3,
          "solution": false,
          "task": false
        },
        "id": "QE6IyDv4l5cy"
      },
      "source": [
        "**Standard numpy-like indexing and slicing:**"
      ]
    },
    {
      "cell_type": "code",
      "execution_count": 8,
      "metadata": {
        "ExecuteTime": {
          "end_time": "2021-11-09T19:59:52.889292Z",
          "start_time": "2021-11-09T19:59:52.883071Z"
        },
        "deletable": false,
        "editable": false,
        "nbgrader": {
          "cell_type": "code",
          "checksum": "27670eb419578cd89154f9d8d942fd13",
          "grade": false,
          "grade_id": "cell-68254433d58dfef9",
          "locked": true,
          "schema_version": 3,
          "solution": false,
          "task": false
        },
        "colab": {
          "base_uri": "https://localhost:8080/"
        },
        "id": "UYeNMTowl5cy",
        "outputId": "ad276f63-5468-44eb-ec7c-3f33a5540520"
      },
      "outputs": [
        {
          "output_type": "stream",
          "name": "stdout",
          "text": [
            "tensor([[ 0.,  1.,  2.,  3.],\n",
            "        [ 4.,  5.,  6.,  7.],\n",
            "        [ 8.,  9., 10., 11.]])\n",
            "First row:  tensor([0., 1., 2., 3.])\n",
            "First column:  tensor([0., 4., 8.])\n",
            "Last column: tensor([ 3.,  7., 11.])\n"
          ]
        }
      ],
      "source": [
        "tensor = torch.arange(12).reshape(3, 4).float()\n",
        "print(tensor)\n",
        "print('First row: ',tensor[0])\n",
        "print('First column: ', tensor[:, 0])\n",
        "print('Last column:', tensor[:, -1])"
      ]
    },
    {
      "cell_type": "markdown",
      "metadata": {
        "deletable": false,
        "editable": false,
        "nbgrader": {
          "cell_type": "markdown",
          "checksum": "9bf20b4a386a1ede2ba268a8c61ab940",
          "grade": false,
          "grade_id": "cell-07fe46d6a751454b",
          "locked": true,
          "schema_version": 3,
          "solution": false,
          "task": false
        },
        "id": "LIfrdouUl5cy"
      },
      "source": [
        "**Joining tensors**\n",
        "\n"
      ]
    },
    {
      "cell_type": "code",
      "execution_count": 10,
      "metadata": {
        "ExecuteTime": {
          "end_time": "2021-11-09T19:59:52.894432Z",
          "start_time": "2021-11-09T19:59:52.890861Z"
        },
        "deletable": false,
        "editable": false,
        "nbgrader": {
          "cell_type": "code",
          "checksum": "804fe5871c972fef2865361d99b3217c",
          "grade": false,
          "grade_id": "cell-8436764a1dd93dc7",
          "locked": true,
          "schema_version": 3,
          "solution": false,
          "task": false
        },
        "colab": {
          "base_uri": "https://localhost:8080/"
        },
        "id": "opsDldTal5cy",
        "outputId": "f642daf3-bde8-4dc9-e302-3ea100e9b161"
      },
      "outputs": [
        {
          "output_type": "stream",
          "name": "stdout",
          "text": [
            "tensor([[ 0.,  1.,  2.,  3.,  0.,  1.,  2.,  3.,  0.,  1.,  2.,  3.],\n",
            "        [ 4.,  5.,  6.,  7.,  4.,  5.,  6.,  7.,  4.,  5.,  6.,  7.],\n",
            "        [ 8.,  9., 10., 11.,  8.,  9., 10., 11.,  8.,  9., 10., 11.]])\n"
          ]
        }
      ],
      "source": [
        "t1 = torch.cat([tensor, tensor, tensor], dim=1)\n",
        "print(t1)"
      ]
    },
    {
      "cell_type": "markdown",
      "metadata": {
        "deletable": false,
        "editable": false,
        "nbgrader": {
          "cell_type": "markdown",
          "checksum": "b12186a7d48bc1a79d835fb1c1e5f97e",
          "grade": false,
          "grade_id": "cell-70ab95dd8071897a",
          "locked": true,
          "schema_version": 3,
          "solution": false,
          "task": false
        },
        "id": "XKGOL478l5cy"
      },
      "source": [
        "**Arithmetic operations**"
      ]
    },
    {
      "cell_type": "code",
      "execution_count": 9,
      "metadata": {
        "ExecuteTime": {
          "end_time": "2021-11-09T19:59:52.902039Z",
          "start_time": "2021-11-09T19:59:52.896106Z"
        },
        "deletable": false,
        "editable": false,
        "nbgrader": {
          "cell_type": "code",
          "checksum": "c63e7fa1111d6e43fe822182db67f8ec",
          "grade": false,
          "grade_id": "cell-17ade2df712e21e6",
          "locked": true,
          "schema_version": 3,
          "solution": false,
          "task": false
        },
        "colab": {
          "base_uri": "https://localhost:8080/"
        },
        "id": "HP-6VyDYl5cz",
        "outputId": "b336cb90-685c-472e-a2c6-5982620db2b4"
      },
      "outputs": [
        {
          "output_type": "stream",
          "name": "stdout",
          "text": [
            "tensor([[ 14.,  38.,  62.],\n",
            "        [ 38., 126., 214.],\n",
            "        [ 62., 214., 366.]])\n",
            "tensor([[ 14.,  38.,  62.],\n",
            "        [ 38., 126., 214.],\n",
            "        [ 62., 214., 366.]])\n",
            "tensor([[ 14.,  38.,  62.],\n",
            "        [ 38., 126., 214.],\n",
            "        [ 62., 214., 366.]])\n"
          ]
        },
        {
          "output_type": "stream",
          "name": "stderr",
          "text": [
            "<ipython-input-9-0a3126678d1d>:7: UserWarning: An output with one or more elements was resized since it had shape [3, 4], which does not match the required output shape [3, 3]. This behavior is deprecated, and in a future PyTorch release outputs will not be resized unless they have zero elements. You can explicitly reuse an out tensor t by resizing it, inplace, to zero elements with t.resize_(0). (Triggered internally at ../aten/src/ATen/native/Resize.cpp:28.)\n",
            "  torch.matmul(tensor, tensor.T, out=y3)\n"
          ]
        }
      ],
      "source": [
        "# This computes the matrix multiplication between two tensors. y1, y2, y3 will have the same value\n",
        "y1 = tensor @ tensor.T\n",
        "print(y1)\n",
        "y2 = tensor.matmul(tensor.T)\n",
        "print(y2)\n",
        "y3 = torch.rand_like(tensor)\n",
        "torch.matmul(tensor, tensor.T, out=y3)\n",
        "print(y3)"
      ]
    },
    {
      "cell_type": "code",
      "execution_count": 11,
      "metadata": {
        "ExecuteTime": {
          "end_time": "2021-11-09T19:59:52.908790Z",
          "start_time": "2021-11-09T19:59:52.903624Z"
        },
        "deletable": false,
        "editable": false,
        "nbgrader": {
          "cell_type": "code",
          "checksum": "6974f540d18fb1e42492acd33b3a9b5c",
          "grade": false,
          "grade_id": "cell-a119420de324266c",
          "locked": true,
          "schema_version": 3,
          "solution": false,
          "task": false
        },
        "colab": {
          "base_uri": "https://localhost:8080/"
        },
        "id": "frUYuGCwl5cz",
        "outputId": "b6161282-b287-4799-e441-0ead7f4dc5de"
      },
      "outputs": [
        {
          "output_type": "stream",
          "name": "stdout",
          "text": [
            "tensor([[  0.,   1.,   4.,   9.],\n",
            "        [ 16.,  25.,  36.,  49.],\n",
            "        [ 64.,  81., 100., 121.]])\n",
            "tensor([[  0.,   1.,   4.,   9.],\n",
            "        [ 16.,  25.,  36.,  49.],\n",
            "        [ 64.,  81., 100., 121.]])\n",
            "tensor([[  0.,   1.,   4.,   9.],\n",
            "        [ 16.,  25.,  36.,  49.],\n",
            "        [ 64.,  81., 100., 121.]])\n"
          ]
        }
      ],
      "source": [
        "# This computes the element-wise product. z1, z2, z3 will have the same value\n",
        "z1 = tensor * tensor\n",
        "print(z1)\n",
        "z2 = tensor.mul(tensor)\n",
        "print(z2)\n",
        "z3 = torch.rand_like(tensor)\n",
        "torch.mul(tensor, tensor, out=z3)\n",
        "print(z3)"
      ]
    },
    {
      "cell_type": "markdown",
      "metadata": {
        "ExecuteTime": {
          "end_time": "2021-06-04T10:52:36.043345Z",
          "start_time": "2021-06-04T10:52:36.039305Z"
        },
        "deletable": false,
        "editable": false,
        "nbgrader": {
          "cell_type": "markdown",
          "checksum": "82040cf6f62c339db1c08cdb9fb7d97c",
          "grade": false,
          "grade_id": "cell-ee43563ec55838ed",
          "locked": true,
          "schema_version": 3,
          "solution": false,
          "task": false
        },
        "id": "TmGSKu-sl5cz"
      },
      "source": [
        "**Single-element tensors**\n"
      ]
    },
    {
      "cell_type": "code",
      "execution_count": 12,
      "metadata": {
        "ExecuteTime": {
          "end_time": "2021-11-09T19:59:52.912965Z",
          "start_time": "2021-11-09T19:59:52.910269Z"
        },
        "deletable": false,
        "editable": false,
        "nbgrader": {
          "cell_type": "code",
          "checksum": "e95651812e9d9df69e9b56d0d366efa8",
          "grade": false,
          "grade_id": "cell-d398db15eb46f650",
          "locked": true,
          "schema_version": 3,
          "solution": false,
          "task": false
        },
        "colab": {
          "base_uri": "https://localhost:8080/"
        },
        "id": "mmacvVtfl5cz",
        "outputId": "a5f052f5-9064-481f-9657-a845bccf533a"
      },
      "outputs": [
        {
          "output_type": "stream",
          "name": "stdout",
          "text": [
            "66.0 <class 'float'>\n"
          ]
        }
      ],
      "source": [
        "agg = tensor.sum()\n",
        "agg_item = agg.item()\n",
        "print(agg_item, type(agg_item))"
      ]
    },
    {
      "cell_type": "markdown",
      "metadata": {
        "deletable": false,
        "editable": false,
        "nbgrader": {
          "cell_type": "markdown",
          "checksum": "b648e27cde024b597ebb95528fd89e47",
          "grade": false,
          "grade_id": "cell-ad4c08ac5cb16f59",
          "locked": true,
          "schema_version": 3,
          "solution": false,
          "task": false
        },
        "id": "bYMkG-Edl5cz"
      },
      "source": [
        "### 1.4 GPU Acceleration\n",
        "\n"
      ]
    },
    {
      "cell_type": "code",
      "execution_count": 13,
      "metadata": {
        "ExecuteTime": {
          "end_time": "2021-11-09T19:59:53.064705Z",
          "start_time": "2021-11-09T19:59:52.914547Z"
        },
        "deletable": false,
        "editable": false,
        "nbgrader": {
          "cell_type": "code",
          "checksum": "9e62482cd8575e2e93b0582038b96841",
          "grade": false,
          "grade_id": "cell-4a444edeeb9268a9",
          "locked": true,
          "schema_version": 3,
          "solution": false,
          "task": false
        },
        "colab": {
          "base_uri": "https://localhost:8080/"
        },
        "id": "4Yf_ViH8l5cz",
        "outputId": "7fb2d111-2579-419a-99f4-25fe0aba1832"
      },
      "outputs": [
        {
          "output_type": "execute_result",
          "data": {
            "text/plain": [
              "tensor([[0.7886, 0.5895, 0.7539,  ..., 0.9313, 0.6453, 0.9844],\n",
              "        [0.8312, 0.8682, 0.9359,  ..., 0.4046, 0.9987, 0.8608],\n",
              "        [0.1268, 0.2253, 0.1223,  ..., 0.3939, 0.4493, 0.5327],\n",
              "        ...,\n",
              "        [0.5851, 0.5824, 0.8857,  ..., 0.3165, 0.4845, 0.3896],\n",
              "        [0.3348, 0.1535, 0.5840,  ..., 0.0285, 0.7444, 0.5193],\n",
              "        [0.4027, 0.7190, 0.3847,  ..., 0.9606, 0.6629, 0.0359]])"
            ]
          },
          "metadata": {},
          "execution_count": 13
        }
      ],
      "source": [
        "mat = torch.rand(5000, 5000)\n",
        "mat"
      ]
    },
    {
      "cell_type": "code",
      "execution_count": 14,
      "metadata": {
        "ExecuteTime": {
          "end_time": "2021-11-09T19:59:53.619739Z",
          "start_time": "2021-11-09T19:59:53.066447Z"
        },
        "deletable": false,
        "editable": false,
        "nbgrader": {
          "cell_type": "code",
          "checksum": "4b3a80ee483007acd54cd3b012c53f5f",
          "grade": false,
          "grade_id": "cell-3fd0c22a92e541e3",
          "locked": true,
          "schema_version": 3,
          "solution": false,
          "task": false
        },
        "colab": {
          "base_uri": "https://localhost:8080/"
        },
        "id": "zkXa-Iotl5cz",
        "outputId": "442bbee5-d853-4ded-ce16-f63041e318a6"
      },
      "outputs": [
        {
          "output_type": "stream",
          "name": "stdout",
          "text": [
            "CPU times: user 3.74 s, sys: 85 ms, total: 3.83 s\n",
            "Wall time: 3.83 s\n"
          ]
        },
        {
          "output_type": "execute_result",
          "data": {
            "text/plain": [
              "tensor([[1697.6150, 1260.7886, 1260.5798,  ..., 1276.7966, 1265.4301,\n",
              "         1273.4854],\n",
              "        [1260.7886, 1655.7583, 1247.6844,  ..., 1256.2369, 1263.6820,\n",
              "         1263.9419],\n",
              "        [1260.5798, 1247.6844, 1658.2700,  ..., 1258.1453, 1267.2045,\n",
              "         1274.8801],\n",
              "        ...,\n",
              "        [1276.7966, 1256.2367, 1258.1453,  ..., 1704.4204, 1270.7224,\n",
              "         1275.9523],\n",
              "        [1265.4302, 1263.6820, 1267.2046,  ..., 1270.7224, 1686.0026,\n",
              "         1272.0712],\n",
              "        [1273.4852, 1263.9419, 1274.8801,  ..., 1275.9523, 1272.0712,\n",
              "         1699.9994]])"
            ]
          },
          "metadata": {},
          "execution_count": 14
        }
      ],
      "source": [
        "%%time\n",
        "torch.mm(mat.t(), mat)"
      ]
    },
    {
      "cell_type": "code",
      "execution_count": 15,
      "metadata": {
        "ExecuteTime": {
          "end_time": "2021-11-09T19:59:53.624524Z",
          "start_time": "2021-11-09T19:59:53.621511Z"
        },
        "deletable": false,
        "editable": false,
        "nbgrader": {
          "cell_type": "code",
          "checksum": "b4763761e1069ee61e30ea187629ff02",
          "grade": false,
          "grade_id": "cell-cba286fd4075d893",
          "locked": true,
          "schema_version": 3,
          "solution": false,
          "task": false
        },
        "colab": {
          "base_uri": "https://localhost:8080/"
        },
        "id": "9GkFiGf0l5cz",
        "outputId": "a80258b7-8b53-41c3-fe4d-5e5cef70bba2"
      },
      "outputs": [
        {
          "output_type": "stream",
          "name": "stdout",
          "text": [
            "GPU is not available!\n",
            "CPU times: user 0 ns, sys: 729 µs, total: 729 µs\n",
            "Wall time: 2.25 ms\n"
          ]
        }
      ],
      "source": [
        "%%time\n",
        "if torch.cuda.is_available():\n",
        "    mat = mat.cuda()\n",
        "    torch.mm(mat.t(), mat)\n",
        "else:\n",
        "    print('GPU is not available!')"
      ]
    },
    {
      "cell_type": "markdown",
      "metadata": {
        "deletable": false,
        "editable": false,
        "nbgrader": {
          "cell_type": "markdown",
          "checksum": "dc18412bf74237429ce30f815793755b",
          "grade": false,
          "grade_id": "cell-76b1139eccd0ed58",
          "locked": true,
          "schema_version": 3,
          "solution": false,
          "task": false
        },
        "id": "cLJDwCSpl5cz"
      },
      "source": [
        "### Exercise 1\n",
        "\n",
        "Implement the Sigmoid function on your own.\n",
        "\n",
        "$$\\sigma(x) = \\frac{1}{1 + \\exp(-x)}$$\n",
        "\n",
        "Note that you should not use existing PyTorch implementation.\n",
        "\n",
        "Hint: try `torch.exp()`."
      ]
    },
    {
      "cell_type": "code",
      "execution_count": 19,
      "metadata": {
        "ExecuteTime": {
          "end_time": "2021-11-09T19:59:53.628821Z",
          "start_time": "2021-11-09T19:59:53.626556Z"
        },
        "deletable": false,
        "colab": {
          "base_uri": "https://localhost:8080/"
        },
        "id": "T2daEQFll5cz",
        "outputId": "bdc4bc68-843b-46bf-d3aa-f79904b3ddf6"
      },
      "outputs": [
        {
          "output_type": "stream",
          "name": "stdout",
          "text": [
            "tensor([0.5000, 0.8808, 0.1192])\n"
          ]
        }
      ],
      "source": [
        "def sigmoid(x):\n",
        "    return 1 / (1 + torch.exp(-x))\n",
        "\n",
        "x = torch.tensor([0.0, 2.0, -2.0])\n",
        "output = sigmoid(x)\n",
        "print(output)"
      ]
    },
    {
      "cell_type": "markdown",
      "metadata": {
        "ExecuteTime": {
          "end_time": "2021-06-06T04:38:56.061939Z",
          "start_time": "2021-06-06T04:38:56.056875Z"
        },
        "id": "bOOoR5SNl5cz"
      },
      "source": [
        "### Exercise 2\n",
        "\n",
        "Implement a Softmax function on your own.\n",
        "\n",
        "$$\\mathrm{softmax}(\\mathbf{X})_{ij} = \\frac{\\exp(\\mathbf{X}_{ij})}{\\sum_k \\exp(\\mathbf{X}_{ik})}$$\n",
        "\n",
        "Note that you should not use existing PyTorch implementation.\n",
        "\n",
        "Hint: try `torch.exp()` and `torch.sum()`."
      ]
    },
    {
      "cell_type": "code",
      "execution_count": 18,
      "metadata": {
        "ExecuteTime": {
          "end_time": "2021-11-09T19:59:53.643476Z",
          "start_time": "2021-11-09T19:59:53.640913Z"
        },
        "deletable": false,
        "colab": {
          "base_uri": "https://localhost:8080/"
        },
        "id": "JBs0uyF_l5c0",
        "outputId": "10a4cac3-76c8-49ce-cc74-21bd5cd86e40"
      },
      "outputs": [
        {
          "output_type": "stream",
          "name": "stdout",
          "text": [
            "tensor([[0.0900, 0.2447, 0.6652],\n",
            "        [0.2595, 0.7054, 0.0351]])\n"
          ]
        }
      ],
      "source": [
        "def softmax(X):\n",
        "    exp_X = torch.exp(X)\n",
        "    sum_exp_X = torch.sum(exp_X, dim=1, keepdim=True)\n",
        "    return exp_X / sum_exp_X\n",
        "\n",
        "X = torch.tensor([[1.0, 2.0, 3.0], [1.0, 2.0, -1.0]])\n",
        "output = softmax(X)\n",
        "print(output)"
      ]
    },
    {
      "cell_type": "markdown",
      "metadata": {
        "id": "FezvyT1sl5c0"
      },
      "source": [
        "### Exercise 3\n",
        "\n",
        "Implement a linear layer.\n",
        "\n",
        "$$\\mathbf{O} = \\mathbf{X}\\mathbf{W} + \\mathbf{b},$$\n",
        "\n",
        "where $\\mathbf{X}$ is the input feature, $\\mathbf{O}$ is the output feature, $\\mathbf{W}$ and $\\mathbf{b}$ are the weight parameters.\n",
        "\n",
        "Hint: try `torch.matmul()`."
      ]
    },
    {
      "cell_type": "code",
      "execution_count": 20,
      "metadata": {
        "ExecuteTime": {
          "end_time": "2021-11-09T19:59:53.654881Z",
          "start_time": "2021-11-09T19:59:53.652412Z"
        },
        "deletable": false,
        "colab": {
          "base_uri": "https://localhost:8080/"
        },
        "id": "5oAEImeTl5c0",
        "outputId": "5bfbfd2e-7229-458f-c4fe-6356ecb306d1"
      },
      "outputs": [
        {
          "output_type": "stream",
          "name": "stdout",
          "text": [
            "tensor([[4.5000, 2.0000],\n",
            "        [8.5000, 3.0000]])\n"
          ]
        }
      ],
      "source": [
        "def linear(X, W, b):\n",
        "    output = torch.matmul(X, W)\n",
        "    output = output + b\n",
        "    return output\n",
        "\n",
        "X = torch.tensor([[1.0, 2.0], [3.0, 4.0]])  # Input features (N=2, D_in=2)\n",
        "W = torch.tensor([[0.5, 1.0], [1.5, -0.5]])  # Weights (D_in=2, D_out=2)\n",
        "b = torch.tensor([1.0, 2.0])  # Bias (D_out=2)\n",
        "\n",
        "output = linear(X, W, b)\n",
        "print(output)"
      ]
    },
    {
      "cell_type": "markdown",
      "metadata": {
        "deletable": false,
        "editable": false,
        "nbgrader": {
          "cell_type": "markdown",
          "checksum": "c10ec179a54a63dd1e620a09940dff8e",
          "grade": false,
          "grade_id": "cell-c4a2c15a6a98abf0",
          "locked": true,
          "schema_version": 3,
          "solution": false,
          "task": false
        },
        "id": "panYaGFGl5c3"
      },
      "source": [
        "## 2. Loss\n",
        "\n",
        "When presented with some training data, our untrained network is likely not to give the correct answer. Loss function measures the degree of dissimilarity of obtained result to the target value, and it is the loss function that we want to minimize during training. To calculate the loss we make a prediction using the inputs of our given data sample and compare it against the true data label value."
      ]
    },
    {
      "cell_type": "markdown",
      "metadata": {
        "deletable": false,
        "editable": false,
        "nbgrader": {
          "cell_type": "markdown",
          "checksum": "ccc9aecfe0e75fcaa0601e05038cf1c7",
          "grade": false,
          "grade_id": "cell-3c98f0acdf811685",
          "locked": true,
          "schema_version": 3,
          "solution": false,
          "task": false
        },
        "id": "42jAwi4pl5c3"
      },
      "source": [
        "Common loss functions include `nn.MSELoss` (Mean Square Error) for regression tasks, and `nn.NLLLoss` (Negative Log Likelihood) for classification. `nn.CrossEntropyLoss` combines `nn.LogSoftmax` and `nn.NLLLoss`. `nn.BCELoss` is specially designed for binary classification."
      ]
    },
    {
      "cell_type": "markdown",
      "metadata": {
        "deletable": false,
        "editable": false,
        "nbgrader": {
          "cell_type": "markdown",
          "checksum": "bcedcd02ba0d289891ba2accd04ca62e",
          "grade": false,
          "grade_id": "cell-3634cc3d539441c2",
          "locked": true,
          "schema_version": 3,
          "solution": false,
          "task": false
        },
        "id": "_gSCqnAPl5c3"
      },
      "source": [
        "**Mean Square Error**\n",
        "\n",
        "The most popular loss function in regression problems is the squared error. When our prediction for an example $i$ is $\\hat{y}^{(i)}$ and the corresponding true label is ${y}^{(i)}$, the squared error is given by:\n",
        "\n",
        "$$l^{(i)} = \\frac{1}{2} \\left(\\hat{y}^{(i)} - y^{(i)}\\right)^2.$$\n",
        "\n",
        "To measure the quality of a model on the entire dataset of $n$ examples, we simply average (or equivalently, sum) the losses on the training set.\n",
        "\n",
        "$$L =\\frac{1}{n}\\sum_{i=1}^n l^{(i)}.$$\n",
        "\n",
        "Let us see how to implement this."
      ]
    },
    {
      "cell_type": "code",
      "execution_count": 21,
      "metadata": {
        "ExecuteTime": {
          "end_time": "2021-11-09T19:59:53.665878Z",
          "start_time": "2021-11-09T19:59:53.663104Z"
        },
        "deletable": false,
        "editable": false,
        "nbgrader": {
          "cell_type": "code",
          "checksum": "1d263f5353eca3791687c4edfbb38554",
          "grade": false,
          "grade_id": "cell-1df21ca45d9d5c67",
          "locked": true,
          "schema_version": 3,
          "solution": false,
          "task": false
        },
        "id": "YU5mFNGkl5c3"
      },
      "outputs": [],
      "source": [
        "def squared_loss(y_hat, y):\n",
        "    return ((y_hat - y.reshape(y_hat.shape)) ** 2 / 2).mean()"
      ]
    },
    {
      "cell_type": "code",
      "execution_count": 22,
      "metadata": {
        "ExecuteTime": {
          "end_time": "2021-11-09T19:59:53.672639Z",
          "start_time": "2021-11-09T19:59:53.667991Z"
        },
        "deletable": false,
        "editable": false,
        "nbgrader": {
          "cell_type": "code",
          "checksum": "9431b23a3b8b17ca865a0a3002d1f80c",
          "grade": false,
          "grade_id": "cell-7c1fcabfc2ba5a9c",
          "locked": true,
          "schema_version": 3,
          "solution": false,
          "task": false
        },
        "colab": {
          "base_uri": "https://localhost:8080/"
        },
        "id": "3Ei31ht2l5c4",
        "outputId": "ce5898a6-0376-439d-f609-4a11330d5787"
      },
      "outputs": [
        {
          "output_type": "execute_result",
          "data": {
            "text/plain": [
              "tensor(0.0550)"
            ]
          },
          "metadata": {},
          "execution_count": 22
        }
      ],
      "source": [
        "y_hat = torch.tensor([0.5, 0.8, 0.2])\n",
        "y = torch.tensor([1.0, 1.0, 0.0])\n",
        "squared_loss(y_hat, y)"
      ]
    },
    {
      "cell_type": "markdown",
      "metadata": {
        "deletable": false,
        "editable": false,
        "nbgrader": {
          "cell_type": "markdown",
          "checksum": "06ebc855353f3068ef9fb75a914d4980",
          "grade": false,
          "grade_id": "cell-1cabefeec5e1cf70",
          "locked": true,
          "schema_version": 3,
          "solution": false,
          "task": false
        },
        "id": "Z7nKUYpEl5c4"
      },
      "source": [
        "### Exercise 4\n",
        "\n",
        "Implement the cross-entropy loss function on your own.\n",
        "\n",
        "$$l^{(i)} = - \\sum_{j=1}^q y_j^{(i)} \\log \\hat{y}_j^{(i)},$$\n",
        "\n",
        "$$L =\\frac{1}{n}\\sum_{i=1}^n l^{(i)}.$$\n",
        "\n",
        "where $\\mathbf{y}^{(i)}$ is a one-hot vector of length $q$, the sum over all its coordinates $j$ vanishes for all but one term.\n",
        "\n",
        "Note that you should not use existing PyTorch implementation.\n",
        "\n",
        "Hint: try `torch.log()`."
      ]
    },
    {
      "cell_type": "code",
      "execution_count": 23,
      "metadata": {
        "ExecuteTime": {
          "end_time": "2021-11-09T19:59:53.676849Z",
          "start_time": "2021-11-09T19:59:53.674726Z"
        },
        "deletable": false,
        "colab": {
          "base_uri": "https://localhost:8080/"
        },
        "id": "t7N34TeHl5c4",
        "outputId": "2f64a03f-8627-4bf7-873c-40bc61ec45f8"
      },
      "outputs": [
        {
          "output_type": "stream",
          "name": "stdout",
          "text": [
            "tensor(1.4979)\n"
          ]
        }
      ],
      "source": [
        "def cross_entropy(y_hat, y):\n",
        "    log_y_hat = torch.log(y_hat)\n",
        "    loss_per_sample = -torch.sum(y * log_y_hat, dim=1)\n",
        "    loss = torch.mean(loss_per_sample)\n",
        "    return loss\n",
        "\n",
        "y = torch.tensor([[1, 0, 0], [0, 0, 1]])  # True labels (one-hot encoded)\n",
        "y_hat = torch.tensor([[0.1, 0.3, 0.6], [0.3, 0.2, 0.5]])  # Predicted probabilities\n",
        "\n",
        "# Computing cross-entropy loss\n",
        "output = cross_entropy(y_hat, y)\n",
        "print(output)"
      ]
    },
    {
      "cell_type": "markdown",
      "metadata": {
        "deletable": false,
        "editable": false,
        "nbgrader": {
          "cell_type": "markdown",
          "checksum": "bfb88b78b06ad42c14a5d0f820f88120",
          "grade": false,
          "grade_id": "cell-d2696116d62fd7ca",
          "locked": true,
          "schema_version": 3,
          "solution": false,
          "task": false
        },
        "id": "CbeCzaoRl5c4"
      },
      "source": [
        "## 3. Autograd\n",
        "\n",
        "When training the model, we want to find parameters (denoted as $\\Theta$) that minimize the total loss across all training examples:\n",
        "\n",
        "$$\\Theta = \\operatorname*{argmin}_{\\Theta}\\  L(\\Theta).$$\n",
        "\n",
        "To do this, we will iteratively reduce the error by updating the parameters in the direction that incrementally lowers the loss function. This algorithm is called gradient descent. The most naive application of gradient descent consists of taking the derivative of the loss function. Let us see how to do this."
      ]
    },
    {
      "cell_type": "markdown",
      "metadata": {
        "deletable": false,
        "editable": false,
        "nbgrader": {
          "cell_type": "markdown",
          "checksum": "683eed99a46e6950597f646f7d7f0542",
          "grade": false,
          "grade_id": "cell-205d28575317a39c",
          "locked": true,
          "schema_version": 3,
          "solution": false,
          "task": false
        },
        "id": "_TYMGs4Ql5c4"
      },
      "source": [
        "As a toy example, say that we are interested in differentiating the function $y = 2 \\mathbf{x}^\\top \\mathbf{x}$ with respect to the column vector $\\mathbf{x}$. To start, let us create the variable x and assign it an initial value."
      ]
    },
    {
      "cell_type": "code",
      "execution_count": 24,
      "metadata": {
        "ExecuteTime": {
          "end_time": "2021-11-09T19:59:53.688440Z",
          "start_time": "2021-11-09T19:59:53.684498Z"
        },
        "deletable": false,
        "editable": false,
        "nbgrader": {
          "cell_type": "code",
          "checksum": "831b87d6ad6c21d671885c9b59d4052f",
          "grade": false,
          "grade_id": "cell-a94c031cf67afb4f",
          "locked": true,
          "schema_version": 3,
          "solution": false,
          "task": false
        },
        "colab": {
          "base_uri": "https://localhost:8080/"
        },
        "id": "DbvFXErrl5c4",
        "outputId": "8c204aac-83b4-4518-dd83-5fea92c2777b"
      },
      "outputs": [
        {
          "output_type": "execute_result",
          "data": {
            "text/plain": [
              "tensor([0., 1., 2., 3.])"
            ]
          },
          "metadata": {},
          "execution_count": 24
        }
      ],
      "source": [
        "x = torch.arange(4.0)\n",
        "x"
      ]
    },
    {
      "cell_type": "code",
      "execution_count": 25,
      "metadata": {
        "ExecuteTime": {
          "end_time": "2021-11-09T19:59:53.692926Z",
          "start_time": "2021-11-09T19:59:53.690413Z"
        },
        "deletable": false,
        "editable": false,
        "nbgrader": {
          "cell_type": "code",
          "checksum": "9ba41fc51c935748a491e81afe5a9cb5",
          "grade": false,
          "grade_id": "cell-9343288efcab2ee8",
          "locked": true,
          "schema_version": 3,
          "solution": false,
          "task": false
        },
        "id": "1bSIfVpAl5c4"
      },
      "outputs": [],
      "source": [
        "x.requires_grad_(True)  # Same as `x = torch.arange(4.0, requires_grad=True)`\n",
        "x.grad  # The default value is None"
      ]
    },
    {
      "cell_type": "markdown",
      "metadata": {
        "deletable": false,
        "editable": false,
        "nbgrader": {
          "cell_type": "markdown",
          "checksum": "38a03324937b683b75c932eda2830925",
          "grade": false,
          "grade_id": "cell-8f9fe71daeddcdaa",
          "locked": true,
          "schema_version": 3,
          "solution": false,
          "task": false
        },
        "id": "IzylZiiNl5c4"
      },
      "source": [
        "Now let us calculate $y$."
      ]
    },
    {
      "cell_type": "code",
      "execution_count": 26,
      "metadata": {
        "ExecuteTime": {
          "end_time": "2021-11-09T19:59:53.699730Z",
          "start_time": "2021-11-09T19:59:53.695285Z"
        },
        "deletable": false,
        "editable": false,
        "nbgrader": {
          "cell_type": "code",
          "checksum": "190120bc8195216af556bea10a61d2ba",
          "grade": false,
          "grade_id": "cell-962c853218ef8a99",
          "locked": true,
          "schema_version": 3,
          "solution": false,
          "task": false
        },
        "colab": {
          "base_uri": "https://localhost:8080/"
        },
        "id": "IpzHLh7gl5c4",
        "outputId": "6a3760ae-f6c5-4eed-d5d0-a130ded6f192"
      },
      "outputs": [
        {
          "output_type": "execute_result",
          "data": {
            "text/plain": [
              "tensor(28., grad_fn=<MulBackward0>)"
            ]
          },
          "metadata": {},
          "execution_count": 26
        }
      ],
      "source": [
        "y = 2 * torch.dot(x, x)\n",
        "y"
      ]
    },
    {
      "cell_type": "markdown",
      "metadata": {
        "deletable": false,
        "editable": false,
        "nbgrader": {
          "cell_type": "markdown",
          "checksum": "894f7a758ee313a5b86f56c1d69069f2",
          "grade": false,
          "grade_id": "cell-5dd01161ebcf0e5d",
          "locked": true,
          "schema_version": 3,
          "solution": false,
          "task": false
        },
        "id": "Nla6OEHgl5c4"
      },
      "source": [
        "Since $\\mathbf{x}$ is a vector of length 4, an inner product of $\\mathbf{x}$ and $\\mathbf{x}$ is performed, yielding the scalar output that we assign to $y$. Next, we can automatically calculate the gradient of $y$ with respect to each component of $\\mathbf{x}$ by calling the function for backpropagation and printing the gradient."
      ]
    },
    {
      "cell_type": "code",
      "execution_count": 27,
      "metadata": {
        "ExecuteTime": {
          "end_time": "2021-11-09T19:59:53.706397Z",
          "start_time": "2021-11-09T19:59:53.701945Z"
        },
        "deletable": false,
        "editable": false,
        "nbgrader": {
          "cell_type": "code",
          "checksum": "590e79a7c90c813eecfa9514a7b7b916",
          "grade": false,
          "grade_id": "cell-d69f7e1a6b657229",
          "locked": true,
          "schema_version": 3,
          "solution": false,
          "task": false
        },
        "colab": {
          "base_uri": "https://localhost:8080/"
        },
        "id": "JbQJ49Qbl5c4",
        "outputId": "fa46dace-a813-4dc8-c93d-02be159731c1"
      },
      "outputs": [
        {
          "output_type": "execute_result",
          "data": {
            "text/plain": [
              "tensor([ 0.,  4.,  8., 12.])"
            ]
          },
          "metadata": {},
          "execution_count": 27
        }
      ],
      "source": [
        "y.backward()\n",
        "x.grad"
      ]
    },
    {
      "cell_type": "markdown",
      "metadata": {
        "deletable": false,
        "editable": false,
        "nbgrader": {
          "cell_type": "markdown",
          "checksum": "b98732384eb41e2190df66b086679f0c",
          "grade": false,
          "grade_id": "cell-c9f74064d0da6335",
          "locked": true,
          "schema_version": 3,
          "solution": false,
          "task": false
        },
        "id": "V8YqoZx5l5c4"
      },
      "source": [
        "The gradient of the function $y = 2\\mathbf{x}^{\\top}\\mathbf{x}$ with respect to $\\mathbf{x}$ should be $4\\mathbf{x}$. Let us quickly verify that our desired gradient was calculated correctly."
      ]
    },
    {
      "cell_type": "code",
      "execution_count": 28,
      "metadata": {
        "ExecuteTime": {
          "end_time": "2021-11-09T19:59:53.712706Z",
          "start_time": "2021-11-09T19:59:53.708310Z"
        },
        "deletable": false,
        "editable": false,
        "nbgrader": {
          "cell_type": "code",
          "checksum": "98eeddff71971aa7e9d3139bbbf610c1",
          "grade": false,
          "grade_id": "cell-9ecb119a6399614b",
          "locked": true,
          "schema_version": 3,
          "solution": false,
          "task": false
        },
        "colab": {
          "base_uri": "https://localhost:8080/"
        },
        "id": "mPNBLApzl5c5",
        "outputId": "d630da0f-9f4f-4249-f0c1-b36231c470a0"
      },
      "outputs": [
        {
          "output_type": "execute_result",
          "data": {
            "text/plain": [
              "tensor([True, True, True, True])"
            ]
          },
          "metadata": {},
          "execution_count": 28
        }
      ],
      "source": [
        "x.grad == 4 * x"
      ]
    },
    {
      "cell_type": "markdown",
      "metadata": {
        "deletable": false,
        "editable": false,
        "nbgrader": {
          "cell_type": "markdown",
          "checksum": "666297b89310b1dd925c3dff70abd221",
          "grade": false,
          "grade_id": "cell-0a368433383bc78c",
          "locked": true,
          "schema_version": 3,
          "solution": false,
          "task": false
        },
        "id": "WWDQdYTRl5c5"
      },
      "source": [
        "### Exercise 5\n",
        "\n",
        "Let  $f(x) = \\sin(x)$. Plot $f(x)$ and and $\\frac{df(x)}{dx}$, where the latter is computed without exploiting that $f'(x) = \\cos(x)$."
      ]
    },
    {
      "cell_type": "code",
      "execution_count": 29,
      "metadata": {
        "ExecuteTime": {
          "end_time": "2021-11-09T19:59:53.904887Z",
          "start_time": "2021-11-09T19:59:53.714715Z"
        },
        "deletable": false,
        "colab": {
          "base_uri": "https://localhost:8080/",
          "height": 564
        },
        "id": "w2cf3fqYl5c5",
        "outputId": "5c9fda29-54a9-40f9-ca5b-9653c9c48aa9"
      },
      "outputs": [
        {
          "output_type": "display_data",
          "data": {
            "text/plain": [
              "<Figure size 800x600 with 1 Axes>"
            ],
            "image/png": "[encoded data removed]"
          },
          "metadata": {}
        }
      ],
      "source": [
        "x = np.linspace(-np.pi, np.pi, 100)\n",
        "x = torch.tensor(x, requires_grad=True)\n",
        "\n",
        "y = torch.sin(x)\n",
        "\n",
        "y.backward(torch.ones_like(x))\n",
        "\n",
        "dy_dx = x.grad\n",
        "\n",
        "x_np = x.detach().numpy()\n",
        "y_np = y.detach().numpy()\n",
        "dy_dx_np = dy_dx.detach().numpy()\n",
        "\n",
        "plt.figure(figsize=(8, 6))\n",
        "plt.plot(x_np, y_np, label=\"sin(x)\", color=\"blue\")\n",
        "plt.plot(x_np, dy_dx_np, label=\"df/dx (approx)\", color=\"red\", linestyle='--')\n",
        "plt.title(\"Plot of sin(x) and its derivative (computed via autograd)\")\n",
        "plt.xlabel(\"x\")\n",
        "plt.ylabel(\"y\")\n",
        "plt.legend()\n",
        "plt.grid(True)\n",
        "plt.show()"
      ]
    },
    {
      "cell_type": "markdown",
      "metadata": {
        "deletable": false,
        "editable": false,
        "nbgrader": {
          "cell_type": "markdown",
          "checksum": "b11b0661947ed8e109c225e96ceeea99",
          "grade": false,
          "grade_id": "cell-85c2cf25d4fba682",
          "locked": true,
          "schema_version": 3,
          "solution": false,
          "task": false
        },
        "id": "Etc3Kj07l5c5"
      },
      "source": [
        "## Assignment"
      ]
    },
    {
      "cell_type": "markdown",
      "metadata": {
        "deletable": false,
        "editable": false,
        "nbgrader": {
          "cell_type": "markdown",
          "checksum": "1b35a9f46a60db8bd30c264b5d9db957",
          "grade": false,
          "grade_id": "cell-b4a75a8b976d4aaf",
          "locked": true,
          "schema_version": 3,
          "solution": false,
          "task": false
        },
        "id": "4pCHDR9Xl5c5"
      },
      "source": [
        "Now, we understand the basics of PyTorch. Let us implement an entire method from scratch, including the data pipeline, the linear model, the loss function, and the gradient descent optimizer. While modern deep learning frameworks can automate nearly all of this work, implementing things from scratch is the only way to make sure that we really know what we are doing. Moreover, when it comes time to customize models, defining our own layers or loss functions, understanding how things work under the hood will prove handy. In this section, we will rely only on tensors and auto differentiation. Afterwards, we will introduce a more concise implementation, taking advantage of bells and whistles of deep learning frameworks."
      ]
    },
    {
      "cell_type": "markdown",
      "metadata": {
        "deletable": false,
        "editable": false,
        "nbgrader": {
          "cell_type": "markdown",
          "checksum": "b9a10ff3eed9d4d86486552f7eb8d521",
          "grade": false,
          "grade_id": "cell-23a60381928f9e78",
          "locked": true,
          "schema_version": 3,
          "solution": false,
          "task": false
        },
        "id": "WWm6S620l5c5"
      },
      "source": [
        "To keep things simple, we will construct an artificial dataset according to a linear model with additive noise. Our task will be to recover this model’s parameters using the finite set of examples contained in our dataset. We will keep the data low-dimensional so we can visualize it easily. In the following code snippet, we generate a dataset containing 1000 examples, each consisting of 2 features sampled from a standard normal distribution. Thus our synthetic dataset will be a matrix  $\\mathbf{X} \\in \\mathbb{R}^{1000 \\times 2}$.\n",
        "\n",
        "The true parameters generating our dataset will be $\\mathbf{w} = [2, -3.4]^\\top$ and  $b = 4.2$, and our synthetic labels will be assigned according to the following linear model with the noise term $\\epsilon$:\n",
        "$$\\mathbf{y}= \\mathbf{X} \\mathbf{w} + b + \\mathbf\\epsilon.$$"
      ]
    },
    {
      "cell_type": "code",
      "execution_count": 30,
      "metadata": {
        "ExecuteTime": {
          "end_time": "2021-11-09T19:59:53.915810Z",
          "start_time": "2021-11-09T19:59:53.911988Z"
        },
        "deletable": false,
        "editable": false,
        "nbgrader": {
          "cell_type": "code",
          "checksum": "eafb54534edc50b5f60ad281bd7905cc",
          "grade": false,
          "grade_id": "cell-ba81e3393eb6f13c",
          "locked": true,
          "schema_version": 3,
          "solution": false,
          "task": false
        },
        "id": "pHcL45BDl5c5"
      },
      "outputs": [],
      "source": [
        "def synthetic_data(w, b, num_examples):\n",
        "    \"\"\"Generate y = Xw + b + noise.\"\"\"\n",
        "    X = torch.normal(0, 1, (num_examples, len(w)))\n",
        "    y = torch.matmul(X, w) + b\n",
        "    y += torch.normal(0, 0.01, y.shape)\n",
        "    return X, y.reshape((-1, 1))\n",
        "\n",
        "true_w = torch.tensor([2, -3.4])\n",
        "true_b = 4.2\n",
        "features, labels = synthetic_data(true_w, true_b, 1000)"
      ]
    },
    {
      "cell_type": "code",
      "execution_count": 31,
      "metadata": {
        "ExecuteTime": {
          "end_time": "2021-11-09T19:59:53.921422Z",
          "start_time": "2021-11-09T19:59:53.917405Z"
        },
        "deletable": false,
        "editable": false,
        "nbgrader": {
          "cell_type": "code",
          "checksum": "eaaa5b43b7df88198948cc2af18b2a55",
          "grade": false,
          "grade_id": "cell-f30d23919c1bc1f4",
          "locked": true,
          "schema_version": 3,
          "solution": false,
          "task": false
        },
        "colab": {
          "base_uri": "https://localhost:8080/"
        },
        "id": "WFUL3hF1l5c5",
        "outputId": "2ddcad80-45d3-4b8d-9bea-7f22fe6c4f4e"
      },
      "outputs": [
        {
          "output_type": "stream",
          "name": "stdout",
          "text": [
            "features: tensor([-2.0928, -0.6196]) \n",
            "label: tensor([2.1172])\n"
          ]
        }
      ],
      "source": [
        "print('features:', features[0], '\\nlabel:', labels[0])"
      ]
    },
    {
      "cell_type": "markdown",
      "metadata": {
        "deletable": false,
        "editable": false,
        "nbgrader": {
          "cell_type": "markdown",
          "checksum": "b64abf8de56dce8792e40c54623f330c",
          "grade": false,
          "grade_id": "cell-ff3a9ba26f232db9",
          "locked": true,
          "schema_version": 3,
          "solution": false,
          "task": false
        },
        "id": "NhlZRYKPl5c5"
      },
      "source": [
        "### Reading the Dataset\n",
        "\n",
        "Recall that training models consists of making multiple passes over the dataset, grabbing one minibatch of examples at a time, and using them to update our model. Since this process is so fundamental to training machine learning algorithms, it is worth defining a utility function to shuffle the dataset and access it in minibatches.\n",
        "\n",
        "In the following code, we define the `data_iter` function to demonstrate one possible implementation of this functionality. The function takes a batch size, a matrix of features, and a vector of labels, yielding minibatches of the size batch_size. Each minibatch consists of a tuple of features and labels."
      ]
    },
    {
      "cell_type": "code",
      "execution_count": 32,
      "metadata": {
        "ExecuteTime": {
          "end_time": "2021-11-09T19:59:53.926672Z",
          "start_time": "2021-11-09T19:59:53.923342Z"
        },
        "deletable": false,
        "editable": false,
        "nbgrader": {
          "cell_type": "code",
          "checksum": "7174ddcb46bd3dde2a46f2e6a4c805b0",
          "grade": false,
          "grade_id": "cell-62ff69e249c9f591",
          "locked": true,
          "schema_version": 3,
          "solution": false,
          "task": false
        },
        "id": "nMuhIc2Gl5c5"
      },
      "outputs": [],
      "source": [
        "def data_iter(batch_size, features, labels):\n",
        "    num_examples = len(features)\n",
        "    indices = list(range(num_examples))\n",
        "    # The examples are read at random, in no particular order\n",
        "    random.shuffle(indices)\n",
        "    for i in range(0, num_examples, batch_size):\n",
        "        batch_indices = torch.tensor(indices[i:min(i + batch_size, num_examples)])\n",
        "        yield features[batch_indices], labels[batch_indices]"
      ]
    },
    {
      "cell_type": "markdown",
      "metadata": {
        "deletable": false,
        "editable": false,
        "nbgrader": {
          "cell_type": "markdown",
          "checksum": "723d6edc8c2290eab86d5db0bae4b4cc",
          "grade": false,
          "grade_id": "cell-e9a6a7834942b2ad",
          "locked": true,
          "schema_version": 3,
          "solution": false,
          "task": false
        },
        "id": "yFJodcYal5c6"
      },
      "source": [
        "In general, note that we want to use reasonably sized minibatches to take advantage of the GPU hardware, which excels at parallelizing operations. Because each example can be fed through our models in parallel and the gradient of the loss function for each example can also be taken in parallel, GPUs allow us to process hundreds of examples in scarcely more time than it might take to process just a single example.\n",
        "\n",
        "To build some intuition, let us read and print the first small batch of data examples. The shape of the features in each minibatch tells us both the minibatch size and the number of input features. Likewise, our minibatch of labels will have a shape given by batch_size."
      ]
    },
    {
      "cell_type": "code",
      "execution_count": 33,
      "metadata": {
        "ExecuteTime": {
          "end_time": "2021-11-09T19:59:53.932958Z",
          "start_time": "2021-11-09T19:59:53.928327Z"
        },
        "deletable": false,
        "editable": false,
        "nbgrader": {
          "cell_type": "code",
          "checksum": "5db45991e3570242e92bc0985ace3250",
          "grade": false,
          "grade_id": "cell-07e5479f42cdbff4",
          "locked": true,
          "schema_version": 3,
          "solution": false,
          "task": false
        },
        "colab": {
          "base_uri": "https://localhost:8080/"
        },
        "id": "LYp9bkval5c6",
        "outputId": "c3033b95-f29b-415b-df6b-1f870ce79911"
      },
      "outputs": [
        {
          "output_type": "stream",
          "name": "stdout",
          "text": [
            "tensor([[ 0.3328, -0.7500],\n",
            "        [-0.6873, -2.1948],\n",
            "        [ 1.1267,  0.1299],\n",
            "        [-0.8927,  0.8648],\n",
            "        [ 1.7361, -0.1677],\n",
            "        [-0.9680,  1.9231],\n",
            "        [ 1.0110,  0.3615],\n",
            "        [-0.2814,  0.4892],\n",
            "        [ 0.6248, -0.9218],\n",
            "        [ 0.2559, -0.4386]]) \n",
            " tensor([[ 7.4254],\n",
            "        [10.2802],\n",
            "        [ 6.0074],\n",
            "        [-0.5244],\n",
            "        [ 8.2466],\n",
            "        [-4.2738],\n",
            "        [ 4.9697],\n",
            "        [ 1.9719],\n",
            "        [ 8.5883],\n",
            "        [ 6.2239]])\n"
          ]
        }
      ],
      "source": [
        "batch_size = 10\n",
        "\n",
        "for X, y in data_iter(batch_size, features, labels):\n",
        "    print(X, '\\n', y)\n",
        "    break"
      ]
    },
    {
      "cell_type": "markdown",
      "metadata": {
        "deletable": false,
        "editable": false,
        "nbgrader": {
          "cell_type": "markdown",
          "checksum": "61ba9fba2d0b02868875ce1b7ab0f8a2",
          "grade": false,
          "grade_id": "cell-e1249e2768b4a70b",
          "locked": true,
          "schema_version": 3,
          "solution": false,
          "task": false
        },
        "id": "vu_kDzIHl5c6"
      },
      "source": [
        "As we run the iteration, we obtain distinct minibatches successively until the entire dataset has been exhausted (try this). While the iteration implemented above is good for didactic purposes, it is inefficient in ways that might get us in trouble on real problems. For example, it requires that we load all the data in memory and that we perform lots of random memory access. The built-in iterators implemented in a deep learning framework are considerably more efficient and they can deal with both data stored in files and data fed via data streams."
      ]
    },
    {
      "cell_type": "markdown",
      "metadata": {
        "deletable": false,
        "editable": false,
        "nbgrader": {
          "cell_type": "markdown",
          "checksum": "04f16441b25d0c7c21425a3c3c10ed43",
          "grade": false,
          "grade_id": "cell-8a4bb6bb84c24d82",
          "locked": true,
          "schema_version": 3,
          "solution": false,
          "task": false
        },
        "id": "zZuU65MBl5c6"
      },
      "source": [
        "### Initializing Model Parameters\n",
        "\n",
        "Before we can begin optimizing our model’s parameters by minibatch stochastic gradient descent, we need to have some parameters in the first place. In the following code, we initialize weights by sampling random numbers from a normal distribution with mean 0 and a standard deviation of 0.01, and setting the bias to 0."
      ]
    },
    {
      "cell_type": "code",
      "execution_count": 34,
      "metadata": {
        "ExecuteTime": {
          "end_time": "2021-11-09T19:59:53.936969Z",
          "start_time": "2021-11-09T19:59:53.934449Z"
        },
        "deletable": false,
        "colab": {
          "base_uri": "https://localhost:8080/"
        },
        "id": "-oirVugLl5c6",
        "outputId": "2fbdbee2-b547-48a9-dd5d-2a54404fbde3"
      },
      "outputs": [
        {
          "output_type": "stream",
          "name": "stdout",
          "text": [
            "Initialized weight (w): tensor([-0.0200,  0.0083], requires_grad=True)\n",
            "Initialized bias (b): tensor([0.], requires_grad=True)\n"
          ]
        }
      ],
      "source": [
        "# Length of w should be equal to the number of features (2 in this case)\n",
        "w = torch.normal(0, 0.01, size=(2,), requires_grad=True)\n",
        "\n",
        "# Initialize the bias (b) as a scalar value of 0\n",
        "b = torch.zeros(1, requires_grad=True)\n",
        "\n",
        "print(\"Initialized weight (w):\", w)\n",
        "print(\"Initialized bias (b):\", b)"
      ]
    },
    {
      "cell_type": "markdown",
      "metadata": {
        "ExecuteTime": {
          "end_time": "2021-06-06T07:51:46.589522Z",
          "start_time": "2021-06-06T07:51:46.586432Z"
        },
        "deletable": false,
        "editable": false,
        "nbgrader": {
          "cell_type": "markdown",
          "checksum": "fcaab39d8614129a614e410c39aa75cf",
          "grade": false,
          "grade_id": "cell-615d1fb813fa002a",
          "locked": true,
          "schema_version": 3,
          "solution": false,
          "task": false
        },
        "id": "HCUDGlvSl5c6"
      },
      "source": [
        "### Defining the Model\n",
        "\n",
        "Next, we must define our model, relating its inputs and parameters to its outputs. Recall that to calculate the output of the linear model, we simply take the matrix-vector dot product of the input features $\\mathbf{x}$ and the model weights $\\mathbf{w}$ , and add the offset $b$ to each example.\n",
        "\n",
        "This is exactly the same as what we implemented in Exercise 3."
      ]
    },
    {
      "cell_type": "code",
      "execution_count": 35,
      "metadata": {
        "ExecuteTime": {
          "end_time": "2021-11-09T19:59:53.946691Z",
          "start_time": "2021-11-09T19:59:53.944101Z"
        },
        "deletable": false,
        "colab": {
          "base_uri": "https://localhost:8080/"
        },
        "id": "riUZb-C6l5c6",
        "outputId": "c39ec897-2a84-4ad4-f141-cf4383356a0d"
      },
      "outputs": [
        {
          "output_type": "stream",
          "name": "stdout",
          "text": [
            "tensor([[-0.3600]])\n"
          ]
        }
      ],
      "source": [
        "def linear(X, W, b):\n",
        "    return torch.matmul(X, W) + b\n",
        "X_ = torch.Tensor([[0.1, 0.2, 0.3]])  # Input (1, 3)\n",
        "W_ = torch.Tensor([[0.1, 0.2, 0.3]]).T  # Weights (3, 1), transposed to match input\n",
        "b_ = torch.Tensor([-0.5])  # Bias\n",
        "\n",
        "output = linear(X_, W_, b_)\n",
        "print(output)"
      ]
    },
    {
      "cell_type": "markdown",
      "metadata": {
        "deletable": false,
        "editable": false,
        "nbgrader": {
          "cell_type": "markdown",
          "checksum": "596694b9faa75514f1c038f7ff8bfa38",
          "grade": false,
          "grade_id": "cell-9a215192ecde9028",
          "locked": true,
          "schema_version": 3,
          "solution": false,
          "task": false
        },
        "id": "MUyozJYrl5c6"
      },
      "source": [
        "### Defining the Loss Function\n",
        "\n",
        "Since updating our model requires taking the gradient of our loss function, we ought to define the loss function first. Here we will use the squared loss function."
      ]
    },
    {
      "cell_type": "code",
      "execution_count": 36,
      "metadata": {
        "ExecuteTime": {
          "end_time": "2021-11-09T19:59:53.957811Z",
          "start_time": "2021-11-09T19:59:53.954638Z"
        },
        "deletable": false,
        "colab": {
          "base_uri": "https://localhost:8080/"
        },
        "id": "fjTmjYQ-l5c6",
        "outputId": "70151f06-2ef9-4017-9497-458f59a03a48"
      },
      "outputs": [
        {
          "output_type": "stream",
          "name": "stdout",
          "text": [
            "tensor(0.0475)\n"
          ]
        }
      ],
      "source": [
        "def squared_loss(y_hat, y):\n",
        "    y_hat = y_hat.reshape_as(y)\n",
        "    loss = (y_hat - y) ** 2\n",
        "    return loss.mean()\n",
        "\n",
        "y = torch.tensor([2, 0.4, 1.1, 2.1])  # True labels\n",
        "y_hat = torch.tensor([[2.1, 0.3, 1.2, 2.5]])  # Predicted values\n",
        "\n",
        "output = squared_loss(y_hat, y)\n",
        "print(output)"
      ]
    },
    {
      "cell_type": "markdown",
      "metadata": {
        "deletable": false,
        "editable": false,
        "nbgrader": {
          "cell_type": "markdown",
          "checksum": "6206504a7d0da08b5515310a3b285534",
          "grade": false,
          "grade_id": "cell-6cfd21d340b940b9",
          "locked": true,
          "schema_version": 3,
          "solution": false,
          "task": false
        },
        "id": "5kyr9o2ll5c6"
      },
      "source": [
        "### Defining the Optimization Algorithm\n",
        "\n",
        "At each step, using one minibatch randomly drawn from our dataset, we will estimate the gradient of the loss with respect to our parameters. Next, we will update our parameters in the direction that may reduce the loss. The following code applies the minibatch stochastic gradient descent update, given a set of parameters, a learning rate, and a batch size. The size of the update step is determined by the learning rate lr. Because our loss is calculated as a sum over the minibatch of examples, we normalize our step size by the batch size (batch_size), so that the magnitude of a typical step size does not depend heavily on our choice of the batch size."
      ]
    },
    {
      "cell_type": "code",
      "execution_count": 37,
      "metadata": {
        "ExecuteTime": {
          "end_time": "2021-11-09T19:59:53.968307Z",
          "start_time": "2021-11-09T19:59:53.965629Z"
        },
        "deletable": false,
        "id": "7NZx81qwl5c6"
      },
      "outputs": [],
      "source": [
        "def sgd(params, lr, batch_size):\n",
        "    \"\"\"  Minibatch stochastic gradient descent \"\"\"\n",
        "    lr = lr / batch_size\n",
        "    with torch.no_grad():\n",
        "        for param in params:\n",
        "            \"\"\"\n",
        "            TODO: perform a step gradient descent\n",
        "                  param = param - lr * grad\n",
        "            \"\"\"\n",
        "            if param.grad is not None:  # Ensure that gradients are available\n",
        "                param -= lr * param.grad\n",
        "            param.grad.zero_()"
      ]
    },
    {
      "cell_type": "markdown",
      "metadata": {
        "deletable": false,
        "editable": false,
        "nbgrader": {
          "cell_type": "markdown",
          "checksum": "17670b2bf4bdadb6fba07d4d0a2ab68e",
          "grade": false,
          "grade_id": "cell-b1f4936a88b7fc46",
          "locked": true,
          "schema_version": 3,
          "solution": false,
          "task": false
        },
        "id": "i9UnSAlbl5c7"
      },
      "source": [
        "### Training\n",
        "\n",
        "Now that we have all of the parts in place, we are ready to implement the main training loop. It is crucial that we understand this code because we will see nearly identical training loops over and over again throughout the journey in deep learning.\n",
        "\n",
        "In each iteration, we will grab a minibatch of training examples, and pass them through our model to obtain a set of predictions. After calculating the loss, we initiate the backwards pass through the network, storing the gradients with respect to each parameter. Finally, we will call the optimization algorithm sgd to update the model parameters.\n",
        "\n",
        "In summary, we will execute the following loop:\n"
      ]
    },
    {
      "cell_type": "code",
      "execution_count": 38,
      "metadata": {
        "ExecuteTime": {
          "end_time": "2021-11-09T19:59:54.493522Z",
          "start_time": "2021-11-09T19:59:53.975739Z"
        },
        "deletable": false,
        "editable": false,
        "nbgrader": {
          "cell_type": "code",
          "checksum": "5fea51198b0914c1df9789dd019d22d2",
          "grade": false,
          "grade_id": "cell-f5bcc835498528f7",
          "locked": true,
          "schema_version": 3,
          "solution": false,
          "task": false
        },
        "colab": {
          "base_uri": "https://localhost:8080/"
        },
        "id": "nmaQtcbJl5c7",
        "outputId": "05b0795f-00d8-4bb6-f04c-19260484b5fa"
      },
      "outputs": [
        {
          "output_type": "stream",
          "name": "stdout",
          "text": [
            "epoch 1, loss 10.019016\n",
            "epoch 2, loss 3.049021\n",
            "epoch 3, loss 0.928404\n",
            "epoch 4, loss 0.282955\n",
            "epoch 5, loss 0.086320\n",
            "epoch 6, loss 0.026380\n",
            "epoch 7, loss 0.008119\n",
            "epoch 8, loss 0.002546\n",
            "epoch 9, loss 0.000845\n",
            "epoch 10, loss 0.000328\n",
            "epoch 11, loss 0.000169\n",
            "epoch 12, loss 0.000120\n",
            "epoch 13, loss 0.000105\n",
            "epoch 14, loss 0.000100\n",
            "epoch 15, loss 0.000099\n",
            "epoch 16, loss 0.000098\n",
            "epoch 17, loss 0.000098\n",
            "epoch 18, loss 0.000098\n",
            "epoch 19, loss 0.000098\n",
            "epoch 20, loss 0.000098\n"
          ]
        }
      ],
      "source": [
        "lr = 0.03\n",
        "num_epochs = 20\n",
        "net = linear\n",
        "loss = squared_loss\n",
        "\n",
        "for epoch in range(num_epochs):\n",
        "    for X, y in data_iter(batch_size, features, labels):\n",
        "        l = loss(net(X, w, b), y)  # Minibatch loss in `X` and `y`\n",
        "        # Compute gradient on `l` with respect to [`w`, `b`]\n",
        "        l.backward()\n",
        "        sgd([w, b], lr, batch_size)  # Update parameters using their gradient\n",
        "    with torch.no_grad():\n",
        "        train_l = loss(net(features, w, b), labels)\n",
        "        print(f'epoch {epoch + 1}, loss {float(train_l.mean()):f}')"
      ]
    },
    {
      "cell_type": "code",
      "execution_count": 39,
      "metadata": {
        "ExecuteTime": {
          "end_time": "2021-11-09T19:59:54.499122Z",
          "start_time": "2021-11-09T19:59:54.495321Z"
        },
        "deletable": false,
        "editable": false,
        "nbgrader": {
          "cell_type": "code",
          "checksum": "6715b05b7464b62f52535dc419cb710d",
          "grade": false,
          "grade_id": "cell-82cd66ab962439d4",
          "locked": true,
          "schema_version": 3,
          "solution": false,
          "task": false
        },
        "colab": {
          "base_uri": "https://localhost:8080/"
        },
        "id": "PYitxeDtl5c7",
        "outputId": "f98a952f-c8df-4e28-964b-99a86866b472"
      },
      "outputs": [
        {
          "output_type": "stream",
          "name": "stdout",
          "text": [
            "error in estimating w: tensor([-0.0001,  0.0006], grad_fn=<SubBackward0>)\n",
            "error in estimating b: tensor([-6.7234e-05], grad_fn=<RsubBackward1>)\n"
          ]
        }
      ],
      "source": [
        "print(f'error in estimating w: {true_w - w.reshape(true_w.shape)}')\n",
        "print(f'error in estimating b: {true_b - b}')"
      ]
    }
  ],
  "metadata": {
    "illinois_payload": {
      "b64z": "",
      "nb_path": "release/LAB1/LAB1.ipynb"
    },
    "kernelspec": {
      "display_name": "Python 3 (Threads: 2)",
      "language": "python",
      "name": "python3"
    },
    "language_info": {
      "codemirror_mode": {
        "name": "ipython",
        "version": 3
      },
      "file_extension": ".py",
      "mimetype": "text/x-python",
      "name": "python",
      "nbconvert_exporter": "python",
      "pygments_lexer": "ipython3",
      "version": "3.8.12"
    },
    "toc": {
      "base_numbering": 1,
      "nav_menu": {},
      "number_sections": false,
      "sideBar": true,
      "skip_h1_title": true,
      "title_cell": "Table of Contents",
      "title_sidebar": "Contents",
      "toc_cell": false,
      "toc_position": {
        "height": "calc(100% - 180px)",
        "left": "10px",
        "top": "150px",
        "width": "300.390625px"
      },
      "toc_section_display": true,
      "toc_window_display": true
    },
    "colab": {
      "provenance": [],
      "include_colab_link": true
    }
  },
  "nbformat": 4,
  "nbformat_minor": 0
}