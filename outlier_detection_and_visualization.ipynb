{
  "nbformat": 4,
  "nbformat_minor": 0,
  "metadata": {
    "colab": {
      "provenance": [],
      "authorship_tag": "ABX9TyOX6gAMZbkEXbelN/kQTudl",
      "include_colab_link": true
    },
    "kernelspec": {
      "name": "python3",
      "display_name": "Python 3"
    },
    "language_info": {
      "name": "python"
    }
  },
  "cells": [
    {
      "cell_type": "markdown",
      "metadata": {
        "id": "view-in-github",
        "colab_type": "text"
      },
      "source": [
        "<a href=\"https://colab.research.google.com/github/SrishtiTyagii/coursework/blob/main/outlier_detection_and_visualization.ipynb\" target=\"_parent\"><img src=\"https://colab.research.google.com/assets/colab-badge.svg\" alt=\"Open In Colab\"/></a>"
      ]
    },
    {
      "cell_type": "code",
      "source": [
        "# This notebook demonstrates how to detect and visualize outliers using the Z-Score and Interquartile Range (IQR) methods.\n",
        "# It is implemented using Python's libraries: NumPy, Matplotlib, and Seaborn.\n",
        "\n",
        "import numpy as np\n",
        "import matplotlib.pyplot as plt\n",
        "%matplotlib inline"
      ],
      "metadata": {
        "id": "-gX-dOFQBqVs"
      },
      "execution_count": 1,
      "outputs": []
    },
    {
      "cell_type": "code",
      "source": [
        "## define the dataset\n",
        "dataset = [23, 34, 65, 22, 54, 645, 66, 22, 76, 545, 66, 87, 54, 534, 66, 23, 23, 54, 76, 23, 77, 34, 23, 66]"
      ],
      "metadata": {
        "id": "aYEU4Ypx41pM"
      },
      "execution_count": 2,
      "outputs": []
    },
    {
      "cell_type": "code",
      "source": [
        "# Plot histogram\n",
        "plt.hist(dataset)"
      ],
      "metadata": {
        "colab": {
          "base_uri": "https://localhost:8080/",
          "height": 499
        },
        "id": "RE8j2lY-64XL",
        "outputId": "3724d5d5-26e2-4586-e285-3d9e7d6af5ff"
      },
      "execution_count": 3,
      "outputs": [
        {
          "output_type": "execute_result",
          "data": {
            "text/plain": [
              "(array([20.,  1.,  0.,  0.,  0.,  0.,  0.,  0.,  2.,  1.]),\n",
              " array([ 22. ,  84.3, 146.6, 208.9, 271.2, 333.5, 395.8, 458.1, 520.4,\n",
              "        582.7, 645. ]),\n",
              " <BarContainer object of 10 artists>)"
            ]
          },
          "metadata": {},
          "execution_count": 3
        },
        {
          "output_type": "display_data",
          "data": {
            "text/plain": [
              "<Figure size 640x480 with 1 Axes>"
            ],
            "image/png": "[encoded data removed]"
          },
          "metadata": {}
        }
      ]
    },
    {
      "cell_type": "code",
      "source": [
        "# Z-score method\n",
        "\n",
        "outliers=[]\n",
        "\n",
        "def detect_outliers(data):\n",
        "  threshold=3\n",
        "  mean = np.mean(data)\n",
        "  std = np.std(data)\n",
        "\n",
        "  for i in data:\n",
        "    z_score = (i-mean)/std\n",
        "    if np.abs(z_score)> threshold:\n",
        "      outliers.append(i)\n",
        "\n",
        "  return outliers"
      ],
      "metadata": {
        "id": "lZCrwvbG5Q4o"
      },
      "execution_count": 4,
      "outputs": []
    },
    {
      "cell_type": "code",
      "source": [
        "detect_outliers(dataset)"
      ],
      "metadata": {
        "colab": {
          "base_uri": "https://localhost:8080/"
        },
        "id": "XK9Zi-ES6rLk",
        "outputId": "f8ea3ef9-ac03-49e9-8fcf-dd6d3184d93a"
      },
      "execution_count": 5,
      "outputs": [
        {
          "output_type": "execute_result",
          "data": {
            "text/plain": [
              "[645]"
            ]
          },
          "metadata": {},
          "execution_count": 5
        }
      ]
    },
    {
      "cell_type": "code",
      "source": [
        "# IQR method\n",
        "\n",
        "dataset = sorted(dataset)\n",
        "dataset"
      ],
      "metadata": {
        "colab": {
          "base_uri": "https://localhost:8080/"
        },
        "id": "LLmhAMDv7okB",
        "outputId": "abb21283-997c-427c-ec6a-b4300e119ff0"
      },
      "execution_count": 6,
      "outputs": [
        {
          "output_type": "execute_result",
          "data": {
            "text/plain": [
              "[22,\n",
              " 22,\n",
              " 23,\n",
              " 23,\n",
              " 23,\n",
              " 23,\n",
              " 23,\n",
              " 34,\n",
              " 34,\n",
              " 54,\n",
              " 54,\n",
              " 54,\n",
              " 65,\n",
              " 66,\n",
              " 66,\n",
              " 66,\n",
              " 66,\n",
              " 76,\n",
              " 76,\n",
              " 77,\n",
              " 87,\n",
              " 534,\n",
              " 545,\n",
              " 645]"
            ]
          },
          "metadata": {},
          "execution_count": 6
        }
      ]
    },
    {
      "cell_type": "code",
      "source": [
        "q1, q3 = np.percentile(dataset,[25,75])"
      ],
      "metadata": {
        "id": "sKIPx4H48iWp"
      },
      "execution_count": 7,
      "outputs": []
    },
    {
      "cell_type": "code",
      "source": [
        "print(q1,q3)"
      ],
      "metadata": {
        "colab": {
          "base_uri": "https://localhost:8080/"
        },
        "id": "Df2dWLAp8u2u",
        "outputId": "fa491ba4-4884-4d37-e08f-f6aed8b471fc"
      },
      "execution_count": 8,
      "outputs": [
        {
          "output_type": "stream",
          "name": "stdout",
          "text": [
            "23.0 76.0\n"
          ]
        }
      ]
    },
    {
      "cell_type": "code",
      "source": [
        "iqr = q3-q1\n",
        "print(iqr)"
      ],
      "metadata": {
        "colab": {
          "base_uri": "https://localhost:8080/"
        },
        "id": "gFjmL75n8-r-",
        "outputId": "8dd9b76a-de48-47c3-dec6-a5206600f0a3"
      },
      "execution_count": 9,
      "outputs": [
        {
          "output_type": "stream",
          "name": "stdout",
          "text": [
            "53.0\n"
          ]
        }
      ]
    },
    {
      "cell_type": "code",
      "source": [
        "## Find the lower fence and higher fence\n",
        "lower_fence = q1-(1.5*iqr)\n",
        "higher_fence = q3+(1.5*iqr)"
      ],
      "metadata": {
        "id": "uHysc3eC82Fc"
      },
      "execution_count": 10,
      "outputs": []
    },
    {
      "cell_type": "code",
      "source": [
        "print(lower_fence, higher_fence)"
      ],
      "metadata": {
        "colab": {
          "base_uri": "https://localhost:8080/"
        },
        "id": "rkdwyNlZ9cve",
        "outputId": "9f214440-70b6-4b0a-f8b9-bb79ba67b248"
      },
      "execution_count": 11,
      "outputs": [
        {
          "output_type": "stream",
          "name": "stdout",
          "text": [
            "-56.5 155.5\n"
          ]
        }
      ]
    },
    {
      "cell_type": "code",
      "source": [
        "# Visualize the data with a boxplot\n",
        "\n",
        "import seaborn as sns"
      ],
      "metadata": {
        "id": "21-L1Pmq9tBD"
      },
      "execution_count": 12,
      "outputs": []
    },
    {
      "cell_type": "code",
      "source": [
        "sns.boxplot(dataset)"
      ],
      "metadata": {
        "colab": {
          "base_uri": "https://localhost:8080/",
          "height": 428
        },
        "id": "Vj0HoYn_9wbL",
        "outputId": "d85ffb54-e596-43bc-bed2-2092c5fa91a5"
      },
      "execution_count": 13,
      "outputs": [
        {
          "output_type": "execute_result",
          "data": {
            "text/plain": [
              "<Axes: >"
            ]
          },
          "metadata": {},
          "execution_count": 13
        },
        {
          "output_type": "display_data",
          "data": {
            "text/plain": [
              "<Figure size 640x480 with 1 Axes>"
            ],
            "image/png": "[encoded data removed]"
          },
          "metadata": {}
        }
      ]
    },
    {
      "cell_type": "code",
      "source": [
        "# In this notebook, I used two statistical methods—Z-Score and IQR—to detect outliers. I also visualized the dataset using histograms and boxplots for better understanding of data distribution."
      ],
      "metadata": {
        "id": "Fs-kIiQMbifj"
      },
      "execution_count": 14,
      "outputs": []
    }
  ]
}