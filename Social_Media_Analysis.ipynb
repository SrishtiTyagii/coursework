{
  "nbformat": 4,
  "nbformat_minor": 0,
  "metadata": {
    "colab": {
      "provenance": [],
      "authorship_tag": "ABX9TyNeu8L0wMq9KWAcG9ws+YRA",
      "include_colab_link": true
    },
    "kernelspec": {
      "name": "python3",
      "display_name": "Python 3"
    },
    "language_info": {
      "name": "python"
    }
  },
  "cells": [
    {
      "cell_type": "markdown",
      "metadata": {
        "id": "view-in-github",
        "colab_type": "text"
      },
      "source": [
        "<a href=\"https://colab.research.google.com/github/SrishtiTyagii/coursework/blob/main/Social_Media_Analysis.ipynb\" target=\"_parent\"><img src=\"https://colab.research.google.com/assets/colab-badge.svg\" alt=\"Open In Colab\"/></a>"
      ]
    },
    {
      "cell_type": "markdown",
      "source": [
        "#**Clean & Analyze Social Media**\n",
        "\n",
        "---\n",
        "\n"
      ],
      "metadata": {
        "id": "yYZ0UAX9zwck"
      }
    },
    {
      "cell_type": "markdown",
      "source": [
        "#Introduction\n",
        "In this project, we explore social media data (simulated tweet-like data) to analyze user engagement trends. By focusing on metrics such as \"likes\" across various categories, we can gain valuable insights into how different types of content perform.\n",
        "\n",
        "#Prerequisites\n",
        "To successfully run this project, basic Python knowledge and packages such as pandas, Matplotlib, Seaborn, and numpy installed is necessary. These packages allow for data manipulation, visualization, and statistical analysis.\n",
        "\n",
        "\n",
        "---\n",
        "\n"
      ],
      "metadata": {
        "id": "PpxxGsBS0ZvX"
      }
    },
    {
      "cell_type": "markdown",
      "source": [
        "\n",
        "\n",
        "#1.   Data Creation and Initial Exploration\n",
        "\n"
      ],
      "metadata": {
        "id": "6087waVA0t3K"
      }
    },
    {
      "cell_type": "code",
      "execution_count": 1,
      "metadata": {
        "id": "2Wtj0R5IzuOt"
      },
      "outputs": [],
      "source": [
        "import pandas as pd\n",
        "import numpy as np\n",
        "import matplotlib.pyplot as plt\n",
        "import seaborn as sns\n",
        "import random"
      ]
    },
    {
      "cell_type": "code",
      "source": [
        "categories = ['Food', 'Travel', 'Fashion', 'Fitness', 'Music', 'Culture', 'Family', 'Health']\n",
        "\n",
        "n = 500\n",
        "\n",
        "data = {\n",
        "    'Date': pd.date_range('2021-01-01', periods=n),\n",
        "    'Category': [random.choice(categories) for _ in range(n)],\n",
        "    'Likes': np.random.randint(0, 10000, size=n)\n",
        "}"
      ],
      "metadata": {
        "id": "BCCXq-Ss1Hn5"
      },
      "execution_count": 2,
      "outputs": []
    },
    {
      "cell_type": "markdown",
      "source": [
        "*  This code creates a sample dataset of 500 social media posts, each categorized into one of eight categories. A random number of likes is generated for each post. The dataset includes the date of the post, category, and likes.\n",
        "\n"
      ],
      "metadata": {
        "id": "hZmaLLoq1vc4"
      }
    },
    {
      "cell_type": "code",
      "source": [
        "df = pd.DataFrame(data)\n",
        "print(df.head())"
      ],
      "metadata": {
        "colab": {
          "base_uri": "https://localhost:8080/"
        },
        "id": "KCcAJ4a41JPa",
        "outputId": "12d940b4-ca50-4e59-bbce-52191fb0a0f4"
      },
      "execution_count": 3,
      "outputs": [
        {
          "output_type": "stream",
          "name": "stdout",
          "text": [
            "        Date Category  Likes\n",
            "0 2021-01-01     Food   9835\n",
            "1 2021-01-02  Fitness   1948\n",
            "2 2021-01-03  Fitness   6306\n",
            "3 2021-01-04   Family   4992\n",
            "4 2021-01-05     Food   5541\n"
          ]
        }
      ]
    },
    {
      "cell_type": "markdown",
      "source": [
        "# 2. DataFrame Info"
      ],
      "metadata": {
        "id": "_WOX6-sZ2BHZ"
      }
    },
    {
      "cell_type": "code",
      "source": [
        "print(\"\\nDataFrame Info:\")\n",
        "print(df.info())"
      ],
      "metadata": {
        "colab": {
          "base_uri": "https://localhost:8080/"
        },
        "id": "Mw0OPio01MDB",
        "outputId": "8ef2d331-810e-4bb7-b073-fd185b80f31c"
      },
      "execution_count": 4,
      "outputs": [
        {
          "output_type": "stream",
          "name": "stdout",
          "text": [
            "\n",
            "DataFrame Info:\n",
            "<class 'pandas.core.frame.DataFrame'>\n",
            "RangeIndex: 500 entries, 0 to 499\n",
            "Data columns (total 3 columns):\n",
            " #   Column    Non-Null Count  Dtype         \n",
            "---  ------    --------------  -----         \n",
            " 0   Date      500 non-null    datetime64[ns]\n",
            " 1   Category  500 non-null    object        \n",
            " 2   Likes     500 non-null    int64         \n",
            "dtypes: datetime64[ns](1), int64(1), object(1)\n",
            "memory usage: 11.8+ KB\n",
            "None\n"
          ]
        }
      ]
    },
    {
      "cell_type": "markdown",
      "source": [
        "* This displays the structure of the DataFrame. It shows the data types, counts of non-null entries, and overall memory usage. The dataset has 500 entries, and all columns are non-null."
      ],
      "metadata": {
        "id": "lGBdsOIo2Ffd"
      }
    },
    {
      "cell_type": "markdown",
      "source": [
        "# 3. DataFrame Summary Statistics"
      ],
      "metadata": {
        "id": "mkf_Eojp2TFf"
      }
    },
    {
      "cell_type": "code",
      "source": [
        "print(\"\\nDataFrame Description:\")\n",
        "print(df.describe())"
      ],
      "metadata": {
        "colab": {
          "base_uri": "https://localhost:8080/"
        },
        "id": "McjaZqmV1OzC",
        "outputId": "e3fe1d5a-dbba-4147-9dd9-7daa9ab11c78"
      },
      "execution_count": 5,
      "outputs": [
        {
          "output_type": "stream",
          "name": "stdout",
          "text": [
            "\n",
            "DataFrame Description:\n",
            "                      Date        Likes\n",
            "count                  500   500.000000\n",
            "mean   2021-09-07 12:00:00  4888.508000\n",
            "min    2021-01-01 00:00:00    10.000000\n",
            "25%    2021-05-05 18:00:00  2266.000000\n",
            "50%    2021-09-07 12:00:00  4699.000000\n",
            "75%    2022-01-10 06:00:00  7473.500000\n",
            "max    2022-05-15 00:00:00  9998.000000\n",
            "std                    NaN  2916.358337\n"
          ]
        }
      ]
    },
    {
      "cell_type": "markdown",
      "source": [
        "* A summary of the 'Likes' column is displayed, including count, mean, standard deviation, and the minimum and maximum values. This helps understand the distribution and spread of likes in the dataset."
      ],
      "metadata": {
        "id": "_GR-hPkx2XaU"
      }
    },
    {
      "cell_type": "markdown",
      "source": [
        "# 4. Category Distribution"
      ],
      "metadata": {
        "id": "XaKIeC-T2fNs"
      }
    },
    {
      "cell_type": "code",
      "source": [
        "print(\"\\nCategory Counts:\")\n",
        "print(df['Category'].value_counts())"
      ],
      "metadata": {
        "colab": {
          "base_uri": "https://localhost:8080/"
        },
        "id": "Gl4ORXEE1R6o",
        "outputId": "e3ec999f-7ac6-40a7-d0d0-f6490de85e79"
      },
      "execution_count": 6,
      "outputs": [
        {
          "output_type": "stream",
          "name": "stdout",
          "text": [
            "\n",
            "Category Counts:\n",
            "Category\n",
            "Music      70\n",
            "Culture    66\n",
            "Fashion    66\n",
            "Food       61\n",
            "Family     61\n",
            "Health     60\n",
            "Travel     60\n",
            "Fitness    56\n",
            "Name: count, dtype: int64\n"
          ]
        }
      ]
    },
    {
      "cell_type": "markdown",
      "source": [
        "* This code shows how frequently each category appears in the dataset. The counts help in determining how balanced the dataset is across the different categories.\n",
        "\n"
      ],
      "metadata": {
        "id": "HNUcNpiw2lkz"
      }
    },
    {
      "cell_type": "markdown",
      "source": [
        "# 5. Data Cleaning"
      ],
      "metadata": {
        "id": "sJonE3P-2p_Y"
      }
    },
    {
      "cell_type": "code",
      "source": [
        "df = df.dropna()\n",
        "df = df.drop_duplicates()\n",
        "df['Date'] = pd.to_datetime(df['Date'])\n",
        "df['Likes'] = df['Likes'].astype(int)\n",
        "print(\"\\nCleaned DataFrame:\")\n",
        "print(df.head())\n",
        "print(\"\\nDataFrame Info after cleaning:\")\n",
        "print(df.info())"
      ],
      "metadata": {
        "colab": {
          "base_uri": "https://localhost:8080/"
        },
        "id": "3VcPspA71Vfv",
        "outputId": "75cd8bec-e001-4dd3-ea51-4f38f3d9313f"
      },
      "execution_count": 7,
      "outputs": [
        {
          "output_type": "stream",
          "name": "stdout",
          "text": [
            "\n",
            "Cleaned DataFrame:\n",
            "        Date Category  Likes\n",
            "0 2021-01-01     Food   9835\n",
            "1 2021-01-02  Fitness   1948\n",
            "2 2021-01-03  Fitness   6306\n",
            "3 2021-01-04   Family   4992\n",
            "4 2021-01-05     Food   5541\n",
            "\n",
            "DataFrame Info after cleaning:\n",
            "<class 'pandas.core.frame.DataFrame'>\n",
            "RangeIndex: 500 entries, 0 to 499\n",
            "Data columns (total 3 columns):\n",
            " #   Column    Non-Null Count  Dtype         \n",
            "---  ------    --------------  -----         \n",
            " 0   Date      500 non-null    datetime64[ns]\n",
            " 1   Category  500 non-null    object        \n",
            " 2   Likes     500 non-null    int64         \n",
            "dtypes: datetime64[ns](1), int64(1), object(1)\n",
            "memory usage: 11.8+ KB\n",
            "None\n"
          ]
        }
      ]
    },
    {
      "cell_type": "markdown",
      "source": [
        "* This section cleans the data by removing any null values and duplicates, ensuring that the Date column is in datetime format and the Likes column is converted to integer type.\n",
        "\n"
      ],
      "metadata": {
        "id": "alprvmFY2wbD"
      }
    },
    {
      "cell_type": "markdown",
      "source": [
        "# 6. Likes distribution visualization"
      ],
      "metadata": {
        "id": "wR6kGFQe27z4"
      }
    },
    {
      "cell_type": "code",
      "source": [
        "plt.figure(figsize=(10, 6))\n",
        "sns.distplot(df['Likes'], bins=30, kde=True)\n",
        "plt.title('Histogram of Likes')\n",
        "plt.xlabel('Likes')\n",
        "plt.ylabel('Frequency')\n",
        "plt.show()"
      ],
      "metadata": {
        "colab": {
          "base_uri": "https://localhost:8080/",
          "height": 755
        },
        "id": "r73PyGKc1Yl3",
        "outputId": "a3521e83-cf2a-4af5-df11-71cf3040324a"
      },
      "execution_count": 8,
      "outputs": [
        {
          "output_type": "stream",
          "name": "stderr",
          "text": [
            "<ipython-input-8-59c0919ba4e5>:2: UserWarning: \n",
            "\n",
            "`distplot` is a deprecated function and will be removed in seaborn v0.14.0.\n",
            "\n",
            "Please adapt your code to use either `displot` (a figure-level function with\n",
            "similar flexibility) or `histplot` (an axes-level function for histograms).\n",
            "\n",
            "For a guide to updating your code to use the new functions, please see\n",
            "https://gist.github.com/mwaskom/de44147ed2974457ad6372750bbe5751\n",
            "\n",
            "  sns.distplot(df['Likes'], bins=30, kde=True)\n"
          ]
        },
        {
          "output_type": "display_data",
          "data": {
            "text/plain": [
              "<Figure size 1000x600 with 1 Axes>"
            ],
            "image/png": "[encoded data removed]"
          },
          "metadata": {}
        }
      ]
    },
    {
      "cell_type": "markdown",
      "source": [
        "* A histogram of the 'Likes' column is plotted to visualize its distribution. A Kernel Density Estimate (KDE) curve is overlaid to show the probability density, helping identify patterns and spread in the data."
      ],
      "metadata": {
        "id": "P1qFuvGe3DJJ"
      }
    },
    {
      "cell_type": "markdown",
      "source": [
        "# 7. Boxplot by Category"
      ],
      "metadata": {
        "id": "Uky5_IrR3O6H"
      }
    },
    {
      "cell_type": "code",
      "source": [
        "plt.figure(figsize=(12, 8))\n",
        "sns.boxplot(x='Category', y='Likes', data=df)\n",
        "plt.title('Boxplot of Likes by Category')\n",
        "plt.xlabel('Category')\n",
        "plt.ylabel('Likes')\n",
        "plt.xticks(rotation=45)\n",
        "plt.show()"
      ],
      "metadata": {
        "colab": {
          "base_uri": "https://localhost:8080/",
          "height": 751
        },
        "id": "NpXBiPIb1cOB",
        "outputId": "7b861c7a-bfb7-4397-c982-0192bfbab7fe"
      },
      "execution_count": 9,
      "outputs": [
        {
          "output_type": "display_data",
          "data": {
            "text/plain": [
              "<Figure size 1200x800 with 1 Axes>"
            ],
            "image/png": "[encoded data removed]"
          },
          "metadata": {}
        }
      ]
    },
    {
      "cell_type": "markdown",
      "source": [
        "* This visualization helps highlight variations in engagement, including median values and outliers for each category."
      ],
      "metadata": {
        "id": "18DDpzqI3V1m"
      }
    },
    {
      "cell_type": "markdown",
      "source": [
        "# 8. Mean Likes Calculation"
      ],
      "metadata": {
        "id": "e5_sSvfX3eIp"
      }
    },
    {
      "cell_type": "code",
      "source": [
        "mean_likes = df['Likes'].mean()\n",
        "print(f\"Mean of Likes: {mean_likes:.2f}\")"
      ],
      "metadata": {
        "colab": {
          "base_uri": "https://localhost:8080/"
        },
        "id": "RPVwQwOy1gTg",
        "outputId": "bf4bc7aa-eb39-4d2d-c2f0-0a4cd03d028f"
      },
      "execution_count": 12,
      "outputs": [
        {
          "output_type": "stream",
          "name": "stdout",
          "text": [
            "Mean of Likes: 4888.51\n"
          ]
        }
      ]
    },
    {
      "cell_type": "markdown",
      "source": [
        "* This code calculates the overall mean (average) number of likes for all posts in the dataset.\n",
        "* The result, 4888.51, gives a single value that represents the average engagement per post across all categories. It helps to understand the general level of user engagement on the platform."
      ],
      "metadata": {
        "id": "opysP-Fn3y0v"
      }
    },
    {
      "cell_type": "markdown",
      "source": [
        "# 9. Mean of Likes by Category"
      ],
      "metadata": {
        "id": "EtK9UJUb4SJk"
      }
    },
    {
      "cell_type": "code",
      "source": [
        "mean_likes_by_category = df.groupby('Category')['Likes'].mean()\n",
        "print(\"\\nMean of Likes by Category:\")\n",
        "print(mean_likes_by_category)"
      ],
      "metadata": {
        "colab": {
          "base_uri": "https://localhost:8080/"
        },
        "id": "XllsuUnJ1izs",
        "outputId": "172b7fae-3bb8-44f8-b55d-7005c0865bf3"
      },
      "execution_count": 11,
      "outputs": [
        {
          "output_type": "stream",
          "name": "stdout",
          "text": [
            "\n",
            "Mean of Likes by Category:\n",
            "Category\n",
            "Culture    4502.909091\n",
            "Family     4947.590164\n",
            "Fashion    4927.409091\n",
            "Fitness    5172.875000\n",
            "Food       4813.540984\n",
            "Health     4909.500000\n",
            "Music      4853.871429\n",
            "Travel     5040.033333\n",
            "Name: Likes, dtype: float64\n"
          ]
        }
      ]
    },
    {
      "cell_type": "markdown",
      "source": [
        "* This code computes the average number of likes for each category by grouping the data by Category and then calculating the mean of the Likes column within each group.\n",
        "* The results show how different categories, such as \"Fitness\" (with the highest average of 5172.875) or \"Culture\" (with the lowest average of 4502.9090), perform in terms of user engagement. It provides valuable insights into which categories tend to attract more or fewer likes, helping to identify trends in content popularity."
      ],
      "metadata": {
        "id": "khCtqBP44Xi7"
      }
    }
  ]
}