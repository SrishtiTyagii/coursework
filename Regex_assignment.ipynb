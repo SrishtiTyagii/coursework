{
  "nbformat": 4,
  "nbformat_minor": 0,
  "metadata": {
    "colab": {
      "provenance": [],
      "authorship_tag": "ABX9TyMoxgkY3RWvsOjm79K+D+Gs",
      "include_colab_link": true
    },
    "kernelspec": {
      "name": "python3",
      "display_name": "Python 3"
    },
    "language_info": {
      "name": "python"
    }
  },
  "cells": [
    {
      "cell_type": "markdown",
      "metadata": {
        "id": "view-in-github",
        "colab_type": "text"
      },
      "source": [
        "<a href=\"https://colab.research.google.com/github/SrishtiTyagii/coursework/blob/main/Regex_assignment.ipynb\" target=\"_parent\"><img src=\"https://colab.research.google.com/assets/colab-badge.svg\" alt=\"Open In Colab\"/></a>"
      ]
    },
    {
      "cell_type": "markdown",
      "source": [
        "**This project contains Python code that demonstrates the usage of regular expressions (regex) to extract and manipulate data from strings and text files.**\n",
        "\n",
        "\n",
        "---\n",
        "\n"
      ],
      "metadata": {
        "id": "AukwmpEV8vfY"
      }
    },
    {
      "cell_type": "markdown",
      "source": [
        "# Part A: Extract Names from a String\n",
        "\n",
        "\n",
        "> The goal of this part is to extract all the names from a given string using regular expressions. Names are defined as words that start with a capital letter followed by one or more lowercase letters.\n",
        "\n",
        "\n",
        "\n"
      ],
      "metadata": {
        "id": "2VAwCsPo87vV"
      }
    },
    {
      "cell_type": "code",
      "execution_count": 2,
      "metadata": {
        "colab": {
          "base_uri": "https://localhost:8080/"
        },
        "id": "aVGhRkDG8eG2",
        "outputId": "14642106-3cbe-4160-c25e-cf684eb878bb"
      },
      "outputs": [
        {
          "output_type": "execute_result",
          "data": {
            "text/plain": [
              "['Amy', 'Mary', 'Ruth', 'Peter']"
            ]
          },
          "metadata": {},
          "execution_count": 2
        }
      ],
      "source": [
        "import re\n",
        "\n",
        "def names():\n",
        "    simple_string = \"\"\"Amy is 5 years old, and her sister Mary is 2 years old.\n",
        "    Ruth and Peter, their parents, have 3 kids.\"\"\"\n",
        "\n",
        "    pattern = \"[A-Z][a-z]*\"\n",
        "    return re.findall(pattern, simple_string)\n",
        "\n",
        "# Testing the result\n",
        "assert len(names()) == 4, \"There are four names in the simple_string\"\n",
        "\n",
        "names()\n"
      ]
    },
    {
      "cell_type": "markdown",
      "source": [
        "* I define a regex pattern \"[A-Z][a-z]*\" which matches any word that starts with an uppercase letter followed by lowercase letters.\n",
        "* re.findall() is used to find all occurrences of the pattern in the input string.\n",
        "* The function returns a list of names found in the string."
      ],
      "metadata": {
        "id": "yLnVl7SM9sTP"
      }
    },
    {
      "cell_type": "markdown",
      "source": [
        "# Part B: Extract Students with a 'B' Grade\n",
        "> In this part, the task is to read a list of students and their grades, and extract the names of students who received a 'B'. The input is a multiline string where each line represents a student name followed by their grade."
      ],
      "metadata": {
        "id": "adBR3pGj91A0"
      }
    },
    {
      "cell_type": "code",
      "source": [
        "import re\n",
        "\n",
        "def grades():\n",
        "    grades = \"\"\"\n",
        "    Ronald Mayr: A\n",
        "    Bell Kassulke: B\n",
        "    Jacqueline Rupp: A\n",
        "    Alexander Zeller: C\n",
        "    Valentina Denk: C\n",
        "    Simon Loidl: B\n",
        "    Elias Jovanovic: B\n",
        "    Stefanie Weninger: A\n",
        "    Fabian Peer: C\n",
        "    Hakim Botros: B\n",
        "    Emilie Lorentsen: B\n",
        "    Herman Karlsen: C\n",
        "    Nathalie Delacruz: C\n",
        "    Casey Hartman: C\n",
        "    Lily Walker : A\n",
        "    Gerard Wang: C\n",
        "    Tony Mcdowell: C\n",
        "    Jake Wood: B\n",
        "    Fatemeh Akhtar: B\n",
        "    Kim Weston: B\n",
        "    Nicholas Beatty: A\n",
        "    Kirsten Williams: C\n",
        "    Vaishali Surana: C\n",
        "    Coby Mccormack: C\n",
        "    Yasmin Dar: B\n",
        "    Romy Donnelly: A\n",
        "    Viswamitra Upandhye: B\n",
        "    Kendrick Hilpert: A\n",
        "    Killian Kaufman: B\n",
        "    Elwood Page: B\n",
        "    Mukti Patel: A\n",
        "    Emily Lesch: C\n",
        "    Elodie Booker: B\n",
        "    Jedd Kim: A\n",
        "    Annabel Davies: A\n",
        "    Adnan Chen: B\n",
        "    Jonathan Berg: C\n",
        "    Hank Spinka: B\n",
        "    Agnes Schneider: C\n",
        "    Kimberly Green: A\n",
        "    Lola-Rose Coates: C\n",
        "    Rose Christiansen: C\n",
        "    Shirley Hintz: C\n",
        "    Hannah Bayer: B\n",
        "    \"\"\"\n",
        "\n",
        "    pattern = \"[\\w]*\\ [\\w]*(?=:\\ B)\"\n",
        "    return re.findall(pattern, grades)\n",
        "\n",
        "# Testing the result\n",
        "assert len(grades()) == 16, \"There should be 16 students with a 'B' grade.\"\n",
        "\n",
        "grades()"
      ],
      "metadata": {
        "colab": {
          "base_uri": "https://localhost:8080/"
        },
        "id": "VpwbAUdU9TJp",
        "outputId": "93656a52-1318-4388-8070-75e24b60f484"
      },
      "execution_count": 3,
      "outputs": [
        {
          "output_type": "execute_result",
          "data": {
            "text/plain": [
              "['Bell Kassulke',\n",
              " 'Simon Loidl',\n",
              " 'Elias Jovanovic',\n",
              " 'Hakim Botros',\n",
              " 'Emilie Lorentsen',\n",
              " 'Jake Wood',\n",
              " 'Fatemeh Akhtar',\n",
              " 'Kim Weston',\n",
              " 'Yasmin Dar',\n",
              " 'Viswamitra Upandhye',\n",
              " 'Killian Kaufman',\n",
              " 'Elwood Page',\n",
              " 'Elodie Booker',\n",
              " 'Adnan Chen',\n",
              " 'Hank Spinka',\n",
              " 'Hannah Bayer']"
            ]
          },
          "metadata": {},
          "execution_count": 3
        }
      ]
    },
    {
      "cell_type": "markdown",
      "source": [
        "* I define a regex pattern [\\w]*\\ [\\w]*(?=:\\ B) to match the names of students who received a 'B'.\n",
        "* This pattern looks for two words (first and last names) followed by \": B\".\n",
        "* re.findall() is used to find all matches, and the function returns the list of student names.\n",
        "\n",
        "\n",
        "\n",
        "> Output under construction\n",
        "\n",
        "\n"
      ],
      "metadata": {
        "id": "lifUuTnU-Jlh"
      }
    },
    {
      "cell_type": "markdown",
      "source": [
        "# Part C: Parse Web Log Data\n",
        "> This part involves parsing web log data to extract structured information such as host, username, time, and request type. The input is a multiline string where each line corresponds to a log entry in a specific format."
      ],
      "metadata": {
        "id": "H0Q_TEjM-wHQ"
      }
    },
    {
      "cell_type": "code",
      "source": [
        "import re\n",
        "\n",
        "def logs():\n",
        "    logdata = \"\"\"\n",
        "    146.204.224.152 - feest6811 [21/Jun/2019:15:45:24 -0700] \"POST /incentivize HTTP/1.1\"\n",
        "    197.109.77.178 - adoyle28 [21/Jun/2019:15:45:25 -0700] \"GET /rands HTTP/1.1\"\n",
        "    156.127.178.177 - jbarlow70 [21/Jun/2019:15:45:26 -0700] \"POST /forms HTTP/1.1\"\n",
        "    100.89.186.6 - rshawe1 [21/Jun/2019:15:45:27 -0700] \"POST /interactive HTTP/1.1\"\n",
        "    \"\"\"\n",
        "\n",
        "    # Regex pattern for log file parsing\n",
        "    pattern = \"\"\"\n",
        "    (?P<host>[\\d]+\\.[\\d]+\\.[\\d]+\\.[\\d]+)\\s-\\s\n",
        "    (?P<user_name>[\\w-]+)\\s\\[\n",
        "    (?P<time>[^\\]]+)\\]\\s\"\n",
        "    (?P<request>[^\"]+)\"\n",
        "    \"\"\"\n",
        "\n",
        "    result = []\n",
        "    for item in re.finditer(pattern, logdata, re.VERBOSE):\n",
        "        result.append(item.groupdict())\n",
        "\n",
        "    return result\n",
        "\n",
        "# Testing the result\n",
        "assert len(logs()) == 4, \"There should be 4 log entries parsed.\"\n",
        "\n",
        "logs()"
      ],
      "metadata": {
        "colab": {
          "base_uri": "https://localhost:8080/"
        },
        "id": "g8KYr1_29d3Y",
        "outputId": "64d52888-fa48-401e-d9a6-57d9e827b116"
      },
      "execution_count": 4,
      "outputs": [
        {
          "output_type": "execute_result",
          "data": {
            "text/plain": [
              "[{'host': '146.204.224.152',\n",
              "  'user_name': 'feest6811',\n",
              "  'time': '21/Jun/2019:15:45:24 -0700',\n",
              "  'request': 'POST /incentivize HTTP/1.1'},\n",
              " {'host': '197.109.77.178',\n",
              "  'user_name': 'adoyle28',\n",
              "  'time': '21/Jun/2019:15:45:25 -0700',\n",
              "  'request': 'GET /rands HTTP/1.1'},\n",
              " {'host': '156.127.178.177',\n",
              "  'user_name': 'jbarlow70',\n",
              "  'time': '21/Jun/2019:15:45:26 -0700',\n",
              "  'request': 'POST /forms HTTP/1.1'},\n",
              " {'host': '100.89.186.6',\n",
              "  'user_name': 'rshawe1',\n",
              "  'time': '21/Jun/2019:15:45:27 -0700',\n",
              "  'request': 'POST /interactive HTTP/1.1'}]"
            ]
          },
          "metadata": {},
          "execution_count": 4
        }
      ]
    },
    {
      "cell_type": "markdown",
      "source": [
        "* I use a verbose regex pattern that captures four groups: host, user_name, time, and request.\n",
        "* The re.finditer() function is used to iterate over all matches, and for each match, a dictionary is created with the extracted information.\n",
        "* The function returns a list of dictionaries, where each dictionary corresponds to a log entry."
      ],
      "metadata": {
        "id": "jPo6CxKz-4bz"
      }
    }
  ]
}